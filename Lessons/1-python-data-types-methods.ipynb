{
 "cells": [
  {
   "cell_type": "markdown",
   "metadata": {},
   "source": [
    "# Python Native Data Types & Methods\n",
    "\n",
    "## Introduction\n",
    "\n",
    "Welcome to the lesson on Python native data types and methods. In this lesson, we will go over the native data types that you will work with when writing code in Python (or any programming language)."
   ]
  },
  {
   "cell_type": "markdown",
   "metadata": {},
   "source": [
    "## Table of Contents\n",
    "\n",
    "- [Python Native Data Types & Methods](#python-native-data-types-and-methods)\n",
    "  - [Introduction](#introduction)\n",
    "  - [Table of Contents](#table-of-contents)\n",
    "  - [Python Syntax Basics](#python-syntax-basics)\n",
    "  - [Variables](#variables)\n",
    "  - [Constants](#constants)\n",
    "  - [Data Types](#data-types)\n",
    "  - [Casting](#casting)\n",
    "  - [Booleans](#booleans)\n",
    "  - [Numbers](#numbers)\n",
    "    - [Mathematical Operators](#mathematical-operators)\n",
    "    - [Identifying Relevant Data and Processes](#identifying-relevant-data-and-processes)\n",
    "  - [Strings](#strings)\n",
    "    - [String Immutability](#string-immutability)\n",
    "    - [Slicing Strings](#slicing-strings)\n",
    "    - [Reversing Strings](#reversing-strings)\n",
    "    - [String Operations & methods](#string-ops-methods)\n",
    "    - [Other Methods (Conditionals)](#other-methods)\n",
    "    - [Interpolated Strings](#interpolated-strings)\n",
    "    - [Escape Sequences](#escape-sequences)\n",
    "  - [The None Type](#the-none-type)\n",
    "  - [Conclusion](#conclusion)\n",
    "  - [Exercise](#exercise)\n",
    "  - [Additional Exercises](#additional-exercises)\n"
   ]
  },
  {
   "cell_type": "markdown",
   "metadata": {},
   "source": [
    "## Python Syntax Basics\n",
    "\n",
    "What is Syntax? \n",
    "\n",
    "* Syntax refers to the set of rules that defines the structure of a programming language, or in other words the spelling and grammer rules of python\n",
    "\n",
    "Why is Syntax important?\n",
    "\n",
    "* Ensures code readability\n",
    "* Prevents runtime errors\n",
    "\n",
    "Indentation in Python\n",
    "\n",
    "* Indentation in Python refers to spaces or tabs at the beginning of a line to define blocks of code\n",
    "* Other languages might uses curly brackets to seperate parts of their code, Python on the other hand uses indentation to indicate a block of code (ex: inside a loop, function, or conditional statement)\n",
    "\n",
    "Rules of Indentation and Common Errors:\n",
    "\n",
    "* Indentation must be consistent within the same block\n",
    "* As your code becomes more complex or nested each section will require its own indentation\n",
    "* Indentation errors occur when indentation is inconsistent. As a rule of thumb use the \"tab\" button on your keyboard or use 4 spaces per indentation level (Python's convention)"
   ]
  },
  {
   "cell_type": "markdown",
   "metadata": {},
   "source": [
    "#### Examples"
   ]
  },
  {
   "cell_type": "markdown",
   "metadata": {},
   "source": [
    "Correct"
   ]
  },
  {
   "cell_type": "code",
   "execution_count": null,
   "metadata": {},
   "outputs": [],
   "source": [
    "if True:\n",
    "    print(\"This is indented correctly\")\n",
    "    print(\"This is still part of the same code block\")"
   ]
  },
  {
   "cell_type": "markdown",
   "metadata": {},
   "source": [
    "Incorrect"
   ]
  },
  {
   "cell_type": "code",
   "execution_count": null,
   "metadata": {},
   "outputs": [],
   "source": [
    "if True:\n",
    "    print(\"This is indented correctly\")\n",
    "  print(\"This causes an Indentation Error\")"
   ]
  },
  {
   "cell_type": "markdown",
   "metadata": {},
   "source": [
    "What are Comments?\n",
    "\n",
    "* Comments are lines in code that are not executed and are used to explain what the code does\n",
    "\n",
    "Types of Comments\n",
    "\n",
    "1. Single-line Comments: Begin with a \\#."
   ]
  },
  {
   "cell_type": "code",
   "execution_count": null,
   "metadata": {},
   "outputs": [],
   "source": [
    "# This is a single-line comment\n",
    "print(\"Hello, World!\") # Inline comment"
   ]
  },
  {
   "cell_type": "markdown",
   "metadata": {},
   "source": [
    "2. Multi-line Comments: Use triple quotes (''') or (\"\"\")."
   ]
  },
  {
   "cell_type": "code",
   "execution_count": null,
   "metadata": {},
   "outputs": [],
   "source": [
    "\"\"\" \n",
    "This is a multi-line comment\n",
    "It spans multiple lines.\n",
    "\"\"\"\n",
    "print(\"Hello\")"
   ]
  },
  {
   "cell_type": "markdown",
   "metadata": {},
   "source": [
    "## Variables\n",
    "\n",
    "What is a Variable?\n",
    "\n",
    "* A variable is a named location used to store data in memory\n",
    "* Another way of thinking of variables is to imagine a box, the name of the box is the name of your variable, and this box can hold certain data types like strings or integers. This box has an address on it that references a certain part in memory\n",
    "\n",
    "<img src=\"../GRAPHICS/variable-example.png\" height=\"200px\">\n",
    "\n",
    "Declaring Variables:\n",
    "\n",
    "* Python uses dynamic typing so unlike programming languages like Java where you have to specify the type of of variable it is, all you need to do is give it a name and Python will use the syntax of your variable to identify what form of Data type it is."
   ]
  },
  {
   "cell_type": "code",
   "execution_count": null,
   "metadata": {},
   "outputs": [],
   "source": [
    "age = 27 # \"Integer\n",
    "name = \"John\" # String\n",
    "price = 29.99 # Float\n",
    "is_valid = True # Boolean\n",
    "\n",
    "# To see the memory location you can use \"id\" on your variable\n",
    "print(id(name))\n",
    "print(id(price))"
   ]
  },
  {
   "cell_type": "markdown",
   "metadata": {},
   "source": [
    "#### Rules for Naming Variables:\n",
    "\n",
    "1. Must begin with a letter or underscore.\n",
    "2. Cannot contain spaces or special characters\n",
    "3. Case-sensitivity matters (myName is not the same as myname)\n",
    "4. Avoid Python keywords(if, while, class, function, etc)\n",
    "5. In Python we tend to use snake case as a naming convention (my_name, my_age, my_amazing_variable_name)"
   ]
  },
  {
   "cell_type": "markdown",
   "metadata": {},
   "source": [
    "## Constants\n",
    "\n",
    "What is a Constant?\n",
    "\n",
    "* Constants are variables whose values should not change during program execution\n",
    "\n",
    "* Python does not have a native constant type, but the convention is to use ALL CAPS for constant names that should not be altered."
   ]
  },
  {
   "cell_type": "code",
   "execution_count": null,
   "metadata": {},
   "outputs": [],
   "source": [
    "PI = 3.14159\n",
    "GRAVITY = 9.8\n",
    "MAX_RETRIES = 5"
   ]
  },
  {
   "cell_type": "markdown",
   "metadata": {},
   "source": [
    "Using Constants:\n",
    "\n",
    "* Use constants to store fixed valeus used throughout a program\n",
    "* Place constants at the top of the script for easy reference"
   ]
  },
  {
   "cell_type": "markdown",
   "metadata": {},
   "source": [
    "## Data Types\n",
    "\n",
    "Introduction to Data Types\n",
    "\n",
    "* [Python: Data Types](https://docs.python.org/3/library/datatypes.html)\n",
    "\n",
    "There are many data types in Python, but to keep things simple, we will begin by covering the basics: Boolean, Integer, Floating Point, String, and the None Type. See the table below for short descriptions of these basic data types. \n",
    "\n",
    "| Description                              | Python Data Type | Displayed `type()` |\n",
    "| :------------------------------------------ | :---------------: | :-------------: |\n",
    "| True or False                               | Boolean          | `bool`            |\n",
    "| Whole Numbers                               | Integer          | `int`             |\n",
    "| Decimal Numbers                             | Float            | `float`           |\n",
    "| Sequences of characters                     | String           | `str`             |\n",
    "| Nothing or Non-existent                     | None             | `NoneType`        |\n",
    "\n",
    "\n",
    "Different data objects (e.g. text, numbers, or a list of things) are given specific data types so that computers know how store them in memory. Behind the scenes, these different data types use memory differently.  While you can look at a string representation of the number `1` with your eyes, which looks like `\"1\"`, the way the computer stores the two in memory are different and operations between the two cannot happen until certain methods are used.  A Python program will give you an error if you try to execute an arithmetic function between the two.  Try it out below:"
   ]
  },
  {
   "cell_type": "code",
   "execution_count": null,
   "metadata": {},
   "outputs": [],
   "source": [
    "1 + '3'"
   ]
  },
  {
   "cell_type": "markdown",
   "metadata": {},
   "source": [
    "## Casting\n",
    "\n",
    "To get around this problem, there are built-in methods that you can use to change data from one type to another (with limitations, of course).  These functions allow us to cast data from one type to another by wrapping our target data with the appropriate method.  See below for examples:"
   ]
  },
  {
   "cell_type": "code",
   "execution_count": null,
   "metadata": {},
   "outputs": [],
   "source": [
    "#  Same as the problem above but casting the string to an integer\n",
    "1 + int('3')"
   ]
  },
  {
   "cell_type": "code",
   "execution_count": null,
   "metadata": {},
   "outputs": [],
   "source": [
    "my_variable = 34.45\n",
    "type(my_variable)"
   ]
  },
  {
   "cell_type": "code",
   "execution_count": null,
   "metadata": {},
   "outputs": [],
   "source": [
    "1 + float('3')"
   ]
  },
  {
   "cell_type": "code",
   "execution_count": null,
   "metadata": {},
   "outputs": [],
   "source": [
    "str(1) + '3'"
   ]
  },
  {
   "cell_type": "markdown",
   "metadata": {},
   "source": [
    "One limitation to keep in mind with casting is you will need to ensure the data type will fit the format of the casted result.  One example is trying to cast a string representation of a float to an integer.  Integers do not have decimal points, so if you tried to cast `4.5` to a float, Python will throw a `ValueError`"
   ]
  },
  {
   "cell_type": "code",
   "execution_count": null,
   "metadata": {},
   "outputs": [],
   "source": [
    "int('4.56')"
   ]
  },
  {
   "cell_type": "markdown",
   "metadata": {},
   "source": [
    "## Booleans\n",
    "\n",
    "The most basic data type in Python, booleans, serve the most important role when it comes to writing a computer program: It allows a program to make decisions.  A boolean is binary.  It is yes or no, on or off, 1 or 0, `True` or `False`.  While this is an easy concept on its own, it will take some practice to plan out how you are going to use booleans to construct a useful script.\n",
    "\n",
    "While you will sometimes explictly define a variable as a boolean value, booleans are typically used in comparison operators where the result of a boolean expression is what you're looking at to allow your program to make decisions.  For example, let's pretend you have the code for a thermostat.  You can set the `current_temperature` as the output of the thermometer and your thermostat program can periodically evaluate the temperature against a set threshold to switch the heater or air conditioning on or off.  So you could write code that looks like this:"
   ]
  },
  {
   "cell_type": "code",
   "execution_count": null,
   "metadata": {},
   "outputs": [],
   "source": [
    "current_temperature = 67\n",
    "\n",
    "if current_temperature < 68: # <--- this statement compares current_temperature to the integer 68 and gives a True or False.  The lines below will run or not depending on the result.\n",
    "    heater_on = True\n",
    "else:\n",
    "    heater_on = False"
   ]
  },
  {
   "cell_type": "markdown",
   "metadata": {},
   "source": [
    "## Numbers\n",
    "\n",
    "The two types of numbers we see in programming are integers (whole numbers) and floating point (decimals).  The presence of a decimal point means that a number is a floating point number.  Python treats integers and floats that represent the same value as equal, so `5.0` is equal to `5`.\n",
    "\n",
    "You can perform arithmetic between numbers with Python.  Python will calculate result between integers and floats."
   ]
  },
  {
   "cell_type": "code",
   "execution_count": null,
   "metadata": {},
   "outputs": [],
   "source": [
    "type(23)"
   ]
  },
  {
   "cell_type": "code",
   "execution_count": null,
   "metadata": {},
   "outputs": [],
   "source": [
    "type(34.5)"
   ]
  },
  {
   "cell_type": "code",
   "execution_count": null,
   "metadata": {},
   "outputs": [],
   "source": [
    "34 + 6.5"
   ]
  },
  {
   "cell_type": "markdown",
   "metadata": {},
   "source": [
    "Operations between floats and integers will result in the most precise form.  if a calculation between an integer and a float occurs, the result will always be a float because it is more precise."
   ]
  },
  {
   "cell_type": "markdown",
   "metadata": {},
   "source": [
    "#### Mathematical Operators\n",
    "\n",
    "| Operator  | Operation                            |\n",
    "| :-------: | :----------------------------------- |\n",
    "| `**`        | exponent                             |\n",
    "| `*`         | multiplication                       |\n",
    "| `/`         | division                             |\n",
    "| `//`        | floor division - rounds down the result of division                       |\n",
    "| `%`         | modulus - returns only the remainder of division|\n",
    "| `+`         | addition                             |\n",
    "| `-`         | subtraction                          |"
   ]
  },
  {
   "cell_type": "markdown",
   "metadata": {},
   "source": [
    "Like you learned in math class, Python performs arithmetic operations according to the rule of operations: Parenthesis, Exponents, Multiplication / Division, Addition / Subtraction (PEMDAS).  Below are some examples that you can try out."
   ]
  },
  {
   "cell_type": "code",
   "execution_count": null,
   "metadata": {},
   "outputs": [],
   "source": [
    "(1 + 70) / 4.3 + 8 ** 5\n",
    "# 1 + 70 / 4.3 + 8 ** 5"
   ]
  },
  {
   "cell_type": "code",
   "execution_count": null,
   "metadata": {},
   "outputs": [],
   "source": [
    "23 // 4"
   ]
  },
  {
   "cell_type": "code",
   "execution_count": null,
   "metadata": {},
   "outputs": [],
   "source": [
    "23 % 2"
   ]
  },
  {
   "cell_type": "code",
   "execution_count": null,
   "metadata": {},
   "outputs": [],
   "source": [
    "23 / 4"
   ]
  },
  {
   "cell_type": "markdown",
   "metadata": {},
   "source": [
    "## Strings\n",
    "\n",
    "* [Python: String - Common string operations](https://docs.python.org/3/library/string.html)\n",
    "\n",
    "Strings, formally called _string literals_, are immutable sequences of zero or more characters. They are enclosed with single, double, or triple quotes depending on the use case.  Since strings are sequences, or collections of characters, we can access any portion of a string with _indexing_.  The syntax for accessing a portion of a string is with the square brackets `[]`.  As a reminder, Python uses zero-based indexing for forward direction indexing, which is nothing more than starting your counting at zero.  For indexing from the end of a string, Python starts at `-1`.\n",
    "\n",
    "<img src=\"../GRAPHICS/python_index.png\" height=\"200px\">\n",
    "\n"
   ]
  },
  {
   "cell_type": "code",
   "execution_count": null,
   "metadata": {},
   "outputs": [],
   "source": [
    "my_string = \"This is my basic string.\"\n",
    "# accessing individual indexes and printing them out\n",
    "print(my_string[0])\n",
    "print(my_string[1])\n",
    "print(my_string[2])\n",
    "print(my_string[3])\n",
    "print(my_string[4])"
   ]
  },
  {
   "cell_type": "markdown",
   "metadata": {},
   "source": [
    "### String Immutability\n",
    "\n",
    "The term immutable means that once a string is created, it cannot be changed in-place.  It doesn't mean that we cannot \"change\" a string, but the way we do it is through completely re-defining, or creating completely new strings with changes.\n",
    "\n",
    "With other collections in Python, such as lists, you can re-define a specific index of the list using the same bracket notation we saw in the above example.  Because strings are immutable, we would get an error if we tried to change a letter in place."
   ]
  },
  {
   "cell_type": "code",
   "execution_count": null,
   "metadata": {},
   "outputs": [],
   "source": [
    "my_string = 'This is my string.'\n",
    "\n",
    "my_string[-1] = \"!\" # Trying to change the last character to \"!\""
   ]
  },
  {
   "cell_type": "markdown",
   "metadata": {},
   "source": [
    "Nothing stops us from _redefining_ a string, however."
   ]
  },
  {
   "cell_type": "code",
   "execution_count": null,
   "metadata": {},
   "outputs": [],
   "source": [
    "print(my_string) # printing out what was assigned above...\n",
    "my_string = \"This is my changed string\" # re-defining my_string\n",
    "my_string"
   ]
  },
  {
   "cell_type": "markdown",
   "metadata": {},
   "source": [
    "### String Operations & Methods <a id=\"string-ops-methods\"></a>"
   ]
  },
  {
   "cell_type": "markdown",
   "metadata": {},
   "source": [
    " #### Slicing Strings\n",
    "\n",
    " As we saw with indexing, string slicing also uses bracket syntax.  The difference is the presence of one or more colons which will tell python which indices to start (optional), stop, and step (optional).\n",
    "\n",
    " The syntax for string slicing is `string[start:stop:step]`.  `start` and `step` are optional parameters.  If omitted, `start` defaults to `0`.  `step` defaults to `1`."
   ]
  },
  {
   "cell_type": "code",
   "execution_count": null,
   "metadata": {},
   "outputs": [],
   "source": [
    "print(my_string)\n",
    "my_string[11:18]"
   ]
  },
  {
   "cell_type": "markdown",
   "metadata": {},
   "source": [
    "Below, we get all characters from index `0` up to (but not including) index `4`. If you do not specify a start index, it is assumed to be `0`."
   ]
  },
  {
   "cell_type": "code",
   "execution_count": null,
   "metadata": {},
   "outputs": [],
   "source": [
    "print(my_string)\n",
    "my_string[:4]"
   ]
  },
  {
   "cell_type": "markdown",
   "metadata": {},
   "source": [
    "If you do not specify a stop index, the slice will include everything from the start index up to (and including) the end of the string. Below, we access all characters from index `15` onward."
   ]
  },
  {
   "cell_type": "code",
   "execution_count": null,
   "metadata": {},
   "outputs": [],
   "source": [
    "print(my_string)\n",
    "my_string[-6:]"
   ]
  },
  {
   "cell_type": "markdown",
   "metadata": {},
   "source": [
    "### Reversing Strings\n",
    "\n",
    "You can use string slicing to reverse a string by using -1 as the step."
   ]
  },
  {
   "cell_type": "code",
   "execution_count": null,
   "metadata": {},
   "outputs": [],
   "source": [
    "print(my_string)\n",
    "print(my_string[::-1])\n"
   ]
  },
  {
   "cell_type": "markdown",
   "metadata": {},
   "source": [
    "Below, assign a new string to a variable.  Also, print a single character and a slice of the string."
   ]
  },
  {
   "cell_type": "code",
   "execution_count": null,
   "metadata": {},
   "outputs": [],
   "source": [
    "### Enter code here ###\n"
   ]
  },
  {
   "cell_type": "markdown",
   "metadata": {},
   "source": [
    "Strings have their own methods in Python.  These methods are used to return a modified copy of a string and leave the original string untouched.  "
   ]
  },
  {
   "cell_type": "markdown",
   "metadata": {},
   "source": [
    "#### `str.upper()`\n",
    "\n",
    "- **Description**: Converts all characters in a string to uppercase.\n",
    "- **Use Case**: Useful for ensuring consistent formatting or performing case-insensitive comparisons."
   ]
  },
  {
   "cell_type": "code",
   "execution_count": null,
   "metadata": {},
   "outputs": [],
   "source": [
    "text = \"hello, world\"\n",
    "upper_text = text.upper()  # Result: \"HELLO, WORLD\"\n",
    "upper_text"
   ]
  },
  {
   "cell_type": "markdown",
   "metadata": {},
   "source": [
    "#### `str.lower()`\n",
    "\n",
    "- **Description**: Converts all characters in a string to lowercase.\n",
    "- **Use Case**: Useful for ensuring consistent formatting or performing case-insensitive comparisons."
   ]
  },
  {
   "cell_type": "code",
   "execution_count": null,
   "metadata": {},
   "outputs": [],
   "source": [
    "text = \"Hello, World\"\n",
    "lower_text = text.lower()  # Result: \"hello, world\"\n",
    "lower_text"
   ]
  },
  {
   "cell_type": "markdown",
   "metadata": {},
   "source": [
    "#### `str.capitalize()`\n",
    "\n",
    "- **Description**: Capitalizes the first character of a string and makes all others lowercase.\n",
    "- **Use Case**: Useful for capitalizing names or titles."
   ]
  },
  {
   "cell_type": "code",
   "execution_count": null,
   "metadata": {},
   "outputs": [],
   "source": [
    "text = \"python programming\"\n",
    "capitalized_text = text.capitalize()  # Result: \"Python programming\n",
    "capitalized_text"
   ]
  },
  {
   "cell_type": "markdown",
   "metadata": {},
   "source": [
    "#### `str.title()`\n",
    "\n",
    "- **Description**: Capitalizes the first character of each word in a string.\n",
    "- **Use Case**: Useful for creating title case text."
   ]
  },
  {
   "cell_type": "code",
   "execution_count": null,
   "metadata": {},
   "outputs": [],
   "source": [
    "text = \"python programming\"\n",
    "title_text = text.title()  # Result: \"Python Programming\"\n",
    "title_text"
   ]
  },
  {
   "cell_type": "markdown",
   "metadata": {},
   "source": [
    "#### `str.strip()`\n",
    "\n",
    "- **Description**: Removes leading and trailing whitespace from a string.\n",
    "- **Use Case**: Useful for cleaning user input or when working with data that may have inconsistent spacing."
   ]
  },
  {
   "cell_type": "code",
   "execution_count": null,
   "metadata": {},
   "outputs": [],
   "source": [
    "text = \"           This is some text.   \"\n",
    "print(text)\n",
    "stripped_text = text.strip()  # Result: \"This is some text.\"\n",
    "stripped_text"
   ]
  },
  {
   "cell_type": "markdown",
   "metadata": {},
   "source": [
    "#### `str.startswith()`\n",
    "\n",
    "- **Description**: Checks if a string starts with a specified prefix.\n",
    "- **Use Case**: Useful for filtering or categorizing strings."
   ]
  },
  {
   "cell_type": "code",
   "execution_count": null,
   "metadata": {},
   "outputs": [],
   "source": [
    "text = \"Hello, World\"\n",
    "starts_with_hello = text.startswith(\"Hello\")  # Result: True\n",
    "starts_with_hello"
   ]
  },
  {
   "cell_type": "markdown",
   "metadata": {},
   "source": [
    "#### `str.endswith()`\n",
    "\n",
    "- **Description**: Checks if a string ends with a specified suffix.\n",
    "- **Use Case**: Useful for filtering or categorizing strings."
   ]
  },
  {
   "cell_type": "code",
   "execution_count": null,
   "metadata": {},
   "outputs": [],
   "source": [
    "text = \"Hello, World\"\n",
    "ends_with_world = text.endswith(\"World\")  # Result: True\n",
    "ends_with_world"
   ]
  },
  {
   "cell_type": "markdown",
   "metadata": {},
   "source": [
    "#### `str.find()`\n",
    "\n",
    "- **Description**: Searches for a substring within a string and returns the index of the first occurrence (or -1 if not found).\n",
    "- **Use Case**: Useful for locating and extracting specific information from text."
   ]
  },
  {
   "cell_type": "code",
   "execution_count": null,
   "metadata": {},
   "outputs": [],
   "source": [
    "text = \"Python is a powerful language. Python is fun.\"\n",
    "index = text.find(\"is\")  # Result: 0\n",
    "index"
   ]
  },
  {
   "cell_type": "markdown",
   "metadata": {},
   "source": [
    "#### `str.count()`\n",
    "\n",
    "- **Description**: Counts the number of non-overlapping occurrences of a substring in a string.\n",
    "- **Use Case**: Useful for various text analysis tasks."
   ]
  },
  {
   "cell_type": "code",
   "execution_count": null,
   "metadata": {},
   "outputs": [],
   "source": [
    "text = \"Python is a popular language, and Python is versatile.\"\n",
    "text.count('Python')  # Result: 2\n"
   ]
  },
  {
   "cell_type": "markdown",
   "metadata": {},
   "source": [
    "#### `str.replace()`\n",
    "\n",
    "- **Description**: Replaces all occurrences of a specified substring with another string.\n",
    "- **Use Case**: Useful for text transformations and substitutions."
   ]
  },
  {
   "cell_type": "code",
   "execution_count": null,
   "metadata": {},
   "outputs": [],
   "source": [
    "date_str = '03/14/2024'\n",
    "formatted_date = date_str.replace('/', '-') # Result: 03-14-2024\n",
    "print(date_str)\n",
    "print(formatted_date)"
   ]
  },
  {
   "cell_type": "markdown",
   "metadata": {},
   "source": [
    "#### `str.split()`\n",
    "\n",
    "- **Description**: Splits a string into a list of substrings based on a specified delimiter.\n",
    "- **Use Case**: Useful for tokenizing text or processing data."
   ]
  },
  {
   "cell_type": "code",
   "execution_count": null,
   "metadata": {},
   "outputs": [],
   "source": [
    "date_str = '03/14/2024'\n",
    "split_date = date_str.split('/') # Result: ['03', '14', '2024']\n",
    "split_date"
   ]
  },
  {
   "cell_type": "markdown",
   "metadata": {},
   "source": [
    "#### `str.join()`\n",
    "\n",
    "- **Description**: Joins a list of strings into a single string using the current string as a separator.\n",
    "- **Use Case**: Useful for constructing formatted text from a list of elements."
   ]
  },
  {
   "cell_type": "code",
   "execution_count": null,
   "metadata": {},
   "outputs": [],
   "source": [
    "merged_date = ''.join(split_date)\n",
    "merged_date"
   ]
  },
  {
   "cell_type": "markdown",
   "metadata": {},
   "source": [
    "### Other Methods (Conditionals) <a id=\"other-methods\"></a>\n",
    "\n",
    "Sometimes, you will want to evaluate a string before doing anything else with it.  The below methods can be used to evaluate a string for certain characteristics.  They will all return a boolean."
   ]
  },
  {
   "cell_type": "markdown",
   "metadata": {},
   "source": [
    "#### `str.isalpha()`\n",
    "\n",
    "- **Description**: Checks if all characters in a string are alphabetic (letters).\n",
    "- **Use Case**: Useful for validating input that should contain only letters."
   ]
  },
  {
   "cell_type": "code",
   "execution_count": null,
   "metadata": {},
   "outputs": [],
   "source": [
    "my_string = \"Thisismystring\"\n",
    "my_string.isalpha()"
   ]
  },
  {
   "cell_type": "markdown",
   "metadata": {},
   "source": [
    "#### `str.isnumeric()`\n",
    "\n",
    "- **Description**: Checks if all characters in a string are numeric (digits).\n",
    "- **Use Case**: Useful for validating input that should contain only digits."
   ]
  },
  {
   "cell_type": "code",
   "execution_count": null,
   "metadata": {},
   "outputs": [],
   "source": [
    "my_string = \"123\"\n",
    "my_string.isnumeric()"
   ]
  },
  {
   "cell_type": "markdown",
   "metadata": {},
   "source": [
    "#### `str.isalnum()`\n",
    "\n",
    "- **Description**: Checks if all characters in a string are alphanumeric (letters or digits).\n",
    "- **Use Case**: Useful for validating input that should be a combination of letters and digits."
   ]
  },
  {
   "cell_type": "code",
   "execution_count": null,
   "metadata": {},
   "outputs": [],
   "source": [
    "my_string = \"ABC123\"\n",
    "my_string.isalnum()"
   ]
  },
  {
   "cell_type": "markdown",
   "metadata": {},
   "source": [
    "#### `str.islower()`\n",
    "\n",
    "- **Description**: Checks if all characters in a string are lowercase letters.\n",
    "- **Use Case**: Useful for verifying that text is in lowercase."
   ]
  },
  {
   "cell_type": "code",
   "execution_count": null,
   "metadata": {},
   "outputs": [],
   "source": [
    "my_string = \"ABC123\"\n",
    "my_string.islower()"
   ]
  },
  {
   "cell_type": "markdown",
   "metadata": {},
   "source": [
    "#### `str.isupper()`\n",
    "\n",
    "- **Description**: Checks if all characters in a string are uppercase letters.\n",
    "- **Use Case**: Useful for verifying that text is in uppercase."
   ]
  },
  {
   "cell_type": "code",
   "execution_count": null,
   "metadata": {},
   "outputs": [],
   "source": [
    "my_string = \"ABC12    3\"\n",
    "my_string.isupper()"
   ]
  },
  {
   "cell_type": "markdown",
   "metadata": {},
   "source": [
    "### Interpolated Strings\n",
    "\n",
    "Python allows embedded expressions inside of strings.  The syntax invloves putting the letter `f` in front of the opening quote and using curly braces `{}` to surround your expression."
   ]
  },
  {
   "cell_type": "code",
   "execution_count": null,
   "metadata": {},
   "outputs": [],
   "source": [
    "first_name = 'Jimmy'\n",
    "last_name = 'Fallon'\n",
    "greeting = f\"Hello, {first_name} {last_name}!\"\n",
    "greeting"
   ]
  },
  {
   "cell_type": "markdown",
   "metadata": {},
   "source": [
    "### Escape Sequences\n",
    "\n",
    "Escape sequences allow you to include special characters in strings. They start with a backslash \\. Some common escape sequences include:\n",
    "\n",
    "`\\n`  : Newline  \n",
    "`\\t`  : Tab   \n",
    "`\\\"`  : Double quote  \n",
    "`\\'`  : Single quote\n",
    "\n",
    "Example with `\\n`:"
   ]
  },
  {
   "cell_type": "code",
   "execution_count": null,
   "metadata": {},
   "outputs": [],
   "source": [
    "multi_line = \"This is a \\n\\\"multi-line\\\" \\nstring. \"\n",
    "tabbed_line = \"This is a \\ttabbed \\tstring.\"\n",
    "print(multi_line)\n",
    "print(tabbed_line)"
   ]
  },
  {
   "cell_type": "markdown",
   "metadata": {},
   "source": [
    "### The `None` Type\n",
    "\n",
    "The `None` data type has only one value: `None`, which really just means the absence of data.  `None` does not mean zero, or an empty string.  You can equate `None` to an empty cell in a spreadsheet.  You will find that some scripts will initialize a variable as `None` before they are used or functions use `None` when they do not need to \"return\" a value."
   ]
  },
  {
   "cell_type": "code",
   "execution_count": null,
   "metadata": {},
   "outputs": [],
   "source": [
    "type(None)"
   ]
  },
  {
   "cell_type": "markdown",
   "metadata": {},
   "source": [
    "You will find that `None` is not equivalent to zero or empty data structures, such as lists (`[]`)."
   ]
  },
  {
   "cell_type": "code",
   "execution_count": null,
   "metadata": {},
   "outputs": [],
   "source": [
    "print(None == [])\n",
    "print(None == '')\n",
    "print(None == 0)\n",
    "\n",
    "my_variable = None"
   ]
  },
  {
   "cell_type": "markdown",
   "metadata": {},
   "source": [
    "### Conclusion\n",
    "\n",
    "In this lesson, we explored Python data types to include Booleans, Numbers (Floats and Integers), Strings, and the None type.  This comprehensive lecture covered all the major built-in string methods in Python, providing detailed explanations, use cases, and examples that you can practice with."
   ]
  },
  {
   "cell_type": "markdown",
   "metadata": {},
   "source": [
    "### Exercise\n",
    "\n",
    "Restaurant Bill:\n",
    "\n",
    "Calculate the overall cost of a restaurant bill given the pre-tax total, tax rate, and tip percentage. Apply a tip to the post-tax cost of the meal to get your final output.\n",
    "\n",
    "| Example Input | Expected Output |\n",
    "|:-------|:-----------------:|\n",
    "| `bill = 55.50`<br>`tax = .0675`<br>`tip = .15` | `68.13` |\n",
    "| `bill = 100`<br>`tax = .09`<br>`tip = .20` | `130.80` |\n",
    "| `bill = 796.34`<br>`tax = .0525`<br>`tip = .20` | `1005.78` |\n",
    "\n",
    "\n"
   ]
  },
  {
   "cell_type": "code",
   "execution_count": null,
   "metadata": {},
   "outputs": [],
   "source": [
    "### Enter code here ###"
   ]
  },
  {
   "cell_type": "markdown",
   "metadata": {},
   "source": [
    "### Additional Exercises"
   ]
  },
  {
   "cell_type": "markdown",
   "metadata": {},
   "source": [
    "The below optional exercises utilize Python functions to check your answer against some test cases.  You will see True or False for each case.  If a case is False, your answer did not completely solve the problem.  Please see the section on functions in the pre-work so see them in action."
   ]
  },
  {
   "cell_type": "code",
   "execution_count": null,
   "metadata": {},
   "outputs": [],
   "source": [
    "# SAMPLE EXERCISE\n",
    "\n",
    "# Run the cell without making changes to see the outputs (they should all be False)\n",
    "# Enter the below code (without the triple quotes) in the function and delete the \"pass\" statement. Run the cell again.\n",
    "# You should see all True as the output.\n",
    "\n",
    "'''\n",
    "result = None\n",
    "    if num % 2 == 0:\n",
    "        result = True\n",
    "    else:\n",
    "        result = False\n",
    "    return result\n",
    "'''\n",
    "\n",
    "\n",
    "def even_number_checker(num):\n",
    "    pass\n",
    "\n",
    "# These are the test cases to check if the result of the function call (even_number_checker(3), for example) is equal to a correct result.  If True is returned, the test case has passed.\n",
    "print(even_number_checker(3) == False)\n",
    "print(even_number_checker(55) == False)\n",
    "print(even_number_checker(438343492345504) == True)\n",
    "print(even_number_checker(1001) == False)\n",
    "print(even_number_checker(100) == True)"
   ]
  },
  {
   "cell_type": "code",
   "execution_count": null,
   "metadata": {},
   "outputs": [],
   "source": [
    "# EXERCISE 1\n",
    "\n",
    "# The four bases found in DNA are adenine (A), cytosine (C), guanine (G) and thymine (T).\n",
    "\n",
    "# In genetics, GC-content is the percentage of Guanine (G) and Cytosine (C) bases on a DNA molecule that are either guanine or cytosine.\n",
    "\n",
    "# Given a DNA sequence (a string) return the GC-content in percent, rounded up to 2 decimal digits for Python, not rounded in all other languages.\n",
    "\n",
    "# For more information about GC-content you can take a look to wikipedia GC-content.\n",
    "\n",
    "# For example: the GC-content of the following DNA sequence is 50%: \"AAATTTCCCGGG\".\n",
    "\n",
    "def gc_content(str):\n",
    "  # ***ENTER YOUR CODE HERE***\n",
    "  pass\n",
    "\n",
    "\n",
    "print(gc_content('') == 0.0)\n",
    "print(gc_content('A') == 0.0)\n",
    "print(gc_content('C') == 100.0)\n",
    "print(gc_content('CA') == 50.0)\n",
    "print(gc_content(\"AAATTTCCCGGG\") == 50.0)"
   ]
  },
  {
   "cell_type": "code",
   "execution_count": null,
   "metadata": {},
   "outputs": [],
   "source": [
    "# EXERCISE 2\n",
    "\n",
    "# reverse the order of the words, and reverse the order of the letters within the words.\n",
    "\n",
    "# But, as a bonus, every test input will end with a punctuation mark (! ? .) and the output should be returned with the mark at the end.\n",
    "\n",
    "# A few examples should help clarify:\n",
    "\n",
    "\n",
    "def esrever(str):\n",
    "  pass\n",
    "\n",
    "\n",
    "print(esrever(\"hello world.\") == \"dlrow olleh.\")\n",
    "\n",
    "print(esrever(\"Much l33t?\") == \"t33l hcuM?\")\n",
    "\n",
    "print(esrever(\"tacocat!\") == \"tacocat!\")"
   ]
  }
 ],
 "metadata": {
  "kernelspec": {
   "display_name": "Python 3",
   "language": "python",
   "name": "python3"
  },
  "language_info": {
   "codemirror_mode": {
    "name": "ipython",
    "version": 3
   },
   "file_extension": ".py",
   "mimetype": "text/x-python",
   "name": "python",
   "nbconvert_exporter": "python",
   "pygments_lexer": "ipython3",
   "version": "3.13.7"
  }
 },
 "nbformat": 4,
 "nbformat_minor": 2
}
