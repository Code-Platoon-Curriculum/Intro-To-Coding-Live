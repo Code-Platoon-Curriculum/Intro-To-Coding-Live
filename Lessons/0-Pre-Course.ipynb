{
 "cells": [
  {
   "cell_type": "markdown",
   "metadata": {},
   "source": [
    "# Welcome to Introduction to Coding!"
   ]
  },
  {
   "cell_type": "markdown",
   "metadata": {},
   "source": [
    "## Table of Contents\n",
    "\n",
    "- [Welcome to Introduction To Coding!](#welcome-to-python-basics-course)\n",
    "  - [Table of Contents](#table-of-contents)\n",
    "  - [Course Overview](#course-overview)\n",
    "    - [Course Modules](#course-modules)\n",
    "  - [Instructor](#instructor)\n",
    "    - [Roger De La Garza](#roger-de-la-garza)\n",
    "  - [Code Platoon Support Team](#3-code-platoon-support-team)\n",
    "    - [Student Outreach & Recruitment Manager](#student-outreach-recruitment-manager)\n",
    "      - [Danny Marcano](#danny-marcano)\n",
    "    - [Student Support and Compliance Manager](#student-support-compliance-manager)\n",
    "      - [Tish Johnson](#tish-johnson)\n",
    "  - [Intro to Coding Tools](#4-intro-to-coding-tools)\n",
    "    - [Slack](#slack)\n",
    "    - [GitHub & GitHub Codespaces](#github-&-github-codespaces)\n",
    "    - [Jupyter Notebooks](#jupyter-notebooks)\n",
    "    - [Online REPLs](#online-repls)\n",
    "  - [Programming Concepts](#programming-concepts)\n",
    "    - [Introduction to Scripts](#introduction-to-scripts)\n",
    "    - [Basic Input and Output](#basic-input-and-output)\n",
    "    - [Computer Memory](#computer-memory)\n",
    "    - [Programming Languages](#programming-languages)\n",
    "  - [Python](#python)\n",
    "    - [Python Syntax](#python-syntax)\n",
    "    - [Python Comments](#python-syntax)\n",
    "    - [Variables](#variables)\n",
    "    - [Data Types](#data-types)\n",
    "    - [Functions or Methods](#functions-or-methods)\n",
    "    - [Reserved Keywords](#reserved-keywords)\n",
    "  - [Problem Solving Strategies for Developers](#problem-solving-strategies-for-developers)\n",
    "  - [Resources](#resources)"
   ]
  },
  {
   "cell_type": "markdown",
   "metadata": {},
   "source": [
    "## Course Overview\n",
    "\n",
    "This Intro To Coding course is a solid foundation and beginner friendly course to prepare you for the challenges and technical assessmements required for admission into Code Platoon's Full-stack Immersive program.  In this course, students will learn core competencies that are crucial in developing the foundational knowledge base of any software engineer:\n",
    "\n",
    "1. Programmatic Thinking and Problem Solving\n",
    "2. Foundational Data and Data Collection Types\n",
    "3. Functions and Data Manipulation\n",
    "\n",
    "The course has no hardware requirements to attend; all of the material and practical exercises are web- or cloud-based so you can focus on the content.\n",
    "It is recommended that you establish a GitHub as it offers an environment to enter and run code. Additionally, if you already have some form of platform that you feel comfortable writing code in that will work as well.\n",
    "\n",
    "**NOTE: It is not required to understand all of the material, tools, or resources in the pre-course module.  We will cover many of these items in class.**\n",
    "\n",
    "### Course Modules\n",
    "\n",
    "1. Python Data Types and Methods (Strings, Numbers, Booleans)\n",
    "2. Python Conditional Statements, Truthy/Falsy Logic & Functions\n",
    "3. Python Ordered Data Structures (Lists, Tuples)\n",
    "4. Python Unordered Data Structures (Sets & Dictionaries)\n",
    "5. Python Loops and Data Manipulation\n",
    "6. Python Advanced Data Collections (Nested Data Collections)\n",
    "7. Course Mini Project / Review\n",
    "8. Course Mini Project / Review\n",
    "9. Course Mini Project / Review\n",
    "\n",
    "\n"
   ]
  },
  {
   "cell_type": "markdown",
   "metadata": {},
   "source": [
    "## 2. Instructor\n",
    "\n",
    "### DJ Mann\n",
    "<img src=\"../GRAPHICS/DJMann.png\" height=\"200px\">\n",
    "\n",
    "DJ is a United States Army Veteran who served 13 years as a Motor Transport Operator and Fire Support Specialist. He is a graduate of Code Platoon, member of Whiskey Platoon, and the Code Platoon Alumni Association President. DJ has served in Iraq, Afghanistan and numerous Homeland Security missions in support of 9/11. He is currently the Intro to Coding LIVE Instructor.\n",
    "\n",
    "djmann@codeplatoon.org\n",
    "\n",
    "### Roger De La Garza\n",
    "<img src=\"../GRAPHICS/RogerDelagarza.png\" height=\"200px\">\n",
    "\n",
    "Roger is a United States Army Veteran who served 8 years as a Combat Engineer / Paratrooper. As a graduate of Code Platoon and member of Uniform Platoon, Roger has 2 years of experience, worked with Accenture as a Business Analyst, and currently the Foundations of Programming Instructor.\n",
    "\n",
    "roger@codeplatoon.org"
   ]
  },
  {
   "cell_type": "markdown",
   "metadata": {},
   "source": [
    "## 3. Code Platoon Support Team\n",
    "\n",
    "### Danny Marcano\n",
    "\n",
    "<img src=\"../GRAPHICS/DannyMarcano.jpg\" height=\"200px\">\n",
    "\n",
    "Danny Marcano is the Recruitment Manager at Code Platoon. Danny leverages his previous 8 years of experience recruiting for high growth start up and Fortune 500 companies to guide our cohorts through their Student Journey ultimately ending with students being hired in rewarding Technology roles.\n",
    "\n",
    "danny@codeplatoon.org\n",
    "\n",
    "<br>\n",
    "\n",
    "### Tish Johnson\n",
    "\n",
    "<img src=\"../GRAPHICS/TishJohnson.jpg\" height=\"200px\">\n",
    "\n",
    "Tish Johnson is the Student Support and Compliance Manager at Code Platoon. In this role, she harnesses her college administration experience to manage the enrollment process for admitted students, including processing VA educational benefits.\n",
    "\n",
    "tish@codeplatoon.org\n",
    "\n",
    "<br>\n",
    "\n",
    "### Guillermo Aguilar\n",
    "\n",
    "<img src=\"../GRAPHICS/guillermo_A.png\" height=\"200px\">\n",
    "\n",
    "As Code Platoon’s Pre Work Coordinator, Guillermo Aguilar develops the pre work curriculum and live technical assessments for incoming students. He served in Afghanistan and as an Army National Guardsman for eleven years. \n",
    "\n",
    "guillermo@codeplatoon.org"
   ]
  },
  {
   "cell_type": "markdown",
   "metadata": {},
   "source": [
    "## 4. Intro to Coding Tools"
   ]
  },
  {
   "cell_type": "markdown",
   "metadata": {},
   "source": [
    "### Slack\n",
    "\n",
    "* [Slack](https://www.slack.com)\n",
    "\n",
    "Slack is the primary communication tool of Code Platoon and this class will have its own channel for communication outside of the normal class times.  You can use Slack on any platform and, like your favorite messaging service, it supports most types of media and, more importantly, code examples that you can share and discuss with your classmates.  You should have already received an invitation to join Code Platoon's workspace, but if you did not, please reach out to any staff member."
   ]
  },
  {
   "cell_type": "markdown",
   "metadata": {},
   "source": [
    "### Visual Studio Code (VSCode)\n",
    "\n",
    "* [Visual Studio Code](https://code.visualstudio.com/)\n",
    "\n",
    "VSCode is an Integreated Development Environment (IDE) from Microsoft that can be used to visualize code in customizable ways.  In fact, the code you will see presented in our lectures will be on VSCode.  There are a TON of options/extensions that you can use with VSCode to make development easier."
   ]
  },
  {
   "cell_type": "markdown",
   "metadata": {},
   "source": [
    "### Jupyter Notebooks\n",
    "\n",
    "* [Jupyter](https://www.jupyter.org)\n",
    "\n",
    "The class repository will contain Jupyter notebooks that you can use on your own machine.  Jupyter notebooks allow you to organize information into \"cells\" instead of a single file.  The cells can contain text (markdown in this case), or code.  The notebook will have a kernel, which saves and executes code.  More specifically, it saves the information from each cell so subsequent cells can access the information in memory (i.e. saved variables).  That allows you to break code into smaller steps and see how it runs.  The cell you are reading now is a markdown cell, which is mainly for reading and presenting links.  The cell below is a code cell.  It is Python in this example, but you can run other languages with Jupyter Notebooks.\n",
    "\n",
    "* Note: The first time you run a code cell, you will need to select a Python kernel to run the code.  If running in VScode, it will usually prompt for a Python interpreter at the top.  There should also be a \"Select Kernel\" button at the top-right portion of the VSCode window."
   ]
  },
  {
   "cell_type": "markdown",
   "metadata": {},
   "source": [
    "- Code Cell Example"
   ]
  },
  {
   "cell_type": "code",
   "execution_count": null,
   "metadata": {},
   "outputs": [],
   "source": [
    "# If you want, you can run this cell with the play button found in upper left or at the top of the window. \n",
    "\n",
    "# Importing the time module (included with Python)\n",
    "import time\n",
    "\n",
    "# decaring a variable called 'st' that is using a method in the time module called 'time()'\n",
    "st = time.time()\n",
    "\n",
    "# defining a stop point for the below loop\n",
    "target_num = 5000000\n",
    "# defining a count variable that will be incremented in the loop below while it runs\n",
    "count = 0\n",
    "\n",
    "# this is a while loop to continuously evaluate something and if it evaluates to \"True\", it will execute the indented code\n",
    "while count < target_num:\n",
    "    # incrementing count by one inside the loop\n",
    "    count += 1\n",
    "\n",
    "# establishing another variable to get the time after the loop finished running\n",
    "et = time.time()\n",
    "\n",
    "# calculating the difference between the start time and the end time to show how fast the loop ran\n",
    "total_time = et - st\n",
    "\n",
    "# printing the final result so we can all read it\n",
    "print(f\"The time it took for Python to count to {target_num} took {round(total_time, 2)} seconds\")"
   ]
  },
  {
   "cell_type": "markdown",
   "metadata": {},
   "source": [
    "### GitHub & GitHub Codespaces\n",
    "\n",
    "* [GitHub](https://www.github.com)\n",
    "* [GitHub Codespaces](https://www.github.com/codespaces)\n",
    "\n",
    "If you have not already done so, we recommend establishing a GitHub account and getting familiar with basic navigation.\n",
    "\n",
    "GitHub is an online repository for code.  More specifically, it works with [Git][https://www.git-scm.com/], a version control system that allows developers to keep track of the changes in their code on their local machine.  GitHub allows teams to host the main code base in one location and all work on that same code base by using Git to make _branches_, or copies of the main branch that they can work on.  When the work is complete and approved, they can _merge_ those changes seamlessly.  With bigger code bases, there can be hundreds of branches with several merges and new branch creations per day. \n",
    "\n",
    "GitHub Codespaces offer an easy way to start up a container (like a virtual computer instance) with Visual Studio Code, a powerful and free interactive development environment.  You will be able to install the various tools & extensions to customize your workspace, including Jupyter.  Also, the class material will persist so you can access it later (it does delete after a period of inactivity that exceeds 30 days).\n",
    "\n",
    "Note: Github Codespaces does have a maximum use time of 120 hours a month, and resets at the beginning of each month so ensure when you are not using Codespaces you close the application to save use time. If this seems limiting to you, it is recommended you install Visual Studio Code instead."
   ]
  },
  {
   "cell_type": "markdown",
   "metadata": {},
   "source": [
    "There are several ways to install/use Jupyter Notebooks:\n",
    "\n",
    "1. If you are using VSCode, you can download the Jupyter extension to work with the notebooks right away (this includes installing in GitHub codespaces VSCode).\n",
    "2. If you are a bit more familiar with installing on the command line, you can use the instructions found at the Jupyter link above.\n",
    "3. Lastly, you can use [Binder](https://mybinder.org/).  This tool will allow you to copy the files from the quickPass repository and it will start a web-based jupyter notebook for you to run the files.  Please note that this solution does not persist to be accessed later."
   ]
  },
  {
   "cell_type": "markdown",
   "metadata": {},
   "source": [
    "### Online REPLs\n",
    "\n",
    "REPL (Read, Evaluate, Print, Loop) is a computer environment where user inputs are read and evaluated, and then the results are returned to the user.  Once you install Python on your computer, you can enter a local REPL where you can enter Python commands and see the results.  It is useful for testing out simple commands to see what they do.  For learning purposes, using an online REPL can aid in learning and they have different additional features to visualize code.  Also, because they are based in the browser, you can execute code from anywhere and don't have to worry about installing anything on your local machine.\n",
    "\n",
    "These are just a couple of examples of online REPLs that you can use to execute python code in a browser environment:\n",
    "\n",
    "* [REPL.it](https://www.repl.it)\n",
    "* [Python Tutor](https://www.pythontutor.com)\n",
    "\n",
    "REPL.it will be used for some of your exercises, so it is recommended you create an account (not required).\n",
    "Python Tutor has a great feature to see how code runs step-by-step."
   ]
  },
  {
   "cell_type": "markdown",
   "metadata": {},
   "source": [
    "## Programming Concepts\n",
    "\n",
    "When learning the basics of your first programming language, it is helpful to have a basic understanding of what allows a program, whether written in Python or any other language, to run.  These concepts will be mentioned again in Quick Pass, and they will also be illustrated in the lessons and practice challenges."
   ]
  },
  {
   "cell_type": "markdown",
   "metadata": {},
   "source": [
    "### Basic Input and Output\n",
    "\n",
    "- **Input**: Receiving data (e.g., from a user, file, or sensor) for processing.\n",
    "- **Output**: Displaying or sending out data (e.g., to a screen, file, or network).\n",
    "\n",
    "- **Key Points**:\n",
    "  - Input and output operations are fundamental for interactive scripts and applications.\n",
    "  - Python’s `input()` and `print()` methods are examples of basic input and output functions."
   ]
  },
  {
   "cell_type": "markdown",
   "metadata": {},
   "source": [
    "### Computer Memory\n",
    "\n",
    "Understanding computer memory is a crucial concept in computer science, its use involves the storage of data and instructions for processing. The two primary types of computer memory are:\n",
    "\n",
    "- **RAM (Random Access Memory)**: Temporary storage that is fast but volatile. Python programs primarily use RAM to store data while running.  Data stored in RAM is lost when the computer is turned off.\n",
    "- **Storage (Hard Drive or SSD)**: Permanent storage used to keep data and programs. Slower than RAM but non-volatile.\n",
    "\n",
    "Memory is managed by the operating system.  When writing Python code, you will need to think about how the memory is being utilized and the appropriate methodologies to effectively use and preserve memory."
   ]
  },
  {
   "cell_type": "markdown",
   "metadata": {},
   "source": [
    "### Introduction to Scripts\n",
    "\n",
    "Scripts are sets of instructions written in a programming language that are executed by a computer. Unlike compiled programs, scripts are often interpreted, meaning they are executed line by line by a scripting engine or interpreter, such as Python's interpreter or the JavaScript engine in a web browser.  When running a script, it is typically read top-to-bottom.\n",
    "\n",
    "- **Key Points**:\n",
    "  - Scripts can automate tasks, manipulate data, or generate content.\n",
    "  - They do not require a separate compilation step.\n",
    "  - Common scripting languages include Python, JavaScript, and Bash.\n"
   ]
  },
  {
   "cell_type": "markdown",
   "metadata": {},
   "source": [
    "#### Scripting Concepts\n",
    "\n",
    "When a script is written, the author should have an idea of the variety of input data it may receive and process.  A script that cannot handle changes in environment or input data is known to be __brittle__.  Flexible scripts, on the other hand, are written in a way that a variety of data will not break the script and cause unknown errors.  If the input data is highly controlled, a brittle script would be appropriate, but keeping code flexible is usually the ideal method.\n",
    "\n",
    "\n",
    "Scripting Tools:\n",
    "\n",
    "1. Variables: Store data that can be used and manipulated in the script without referencing hard-coded values.\n",
    "2. Control Structures: Include _loops_ (for-loops, while-loops) and _conditionals_ (if, else) to control the flow of the script.\n",
    "3. Functions: Reusable blocks of code that perform specific tasks.\n",
    "4. Error Handling: Mechanisms to handle errors gracefully and ensure the script runs smoothly.  For example: writing logic to handle different data types (explained further below) before running calculation steps.\n"
   ]
  },
  {
   "cell_type": "markdown",
   "metadata": {},
   "source": [
    "### Programming Languages\n",
    "\n",
    "Programming languages are avenues for us, as humans, to tell a computer what to do while still maintaining a human-readable format.  Behind the scenes, when a program written in a certain language is run, the language instructions are processed into a non-human-readable format that computers can understand.  There are hundreds of different programming languages that you can use, but there are a few that are most popular.  At Code Platoon, we focus on Python and Javascript since they are the most popular languages behind full-stack applications.  \n",
    "\n",
    "In the Python Basics Couorse, we are going to only focus on Python because the formatting is largely human readable and allows for a quick immersion into the key foundational concepts of programming without the overhead of learning how to read the code."
   ]
  },
  {
   "cell_type": "markdown",
   "metadata": {},
   "source": [
    "## Python <a id=\"python\"></a>\n"
   ]
  },
  {
   "cell_type": "markdown",
   "metadata": {},
   "source": [
    "* [Wikipedia: Python (programming language)](https://en.wikipedia.org/wiki/Python_(programming_language))\n",
    "* [The Zen of Python](https://www.python.org/dev/peps/pep-0020/#the-zen-of-python)\n",
    "* [PEP8 Style Guide for Python](https://www.python.org/dev/peps/pep-0008/)\n",
    "\n",
    "Python is a widely used programming language for general-purpose programming and what we will be exclusively focusing on in this course.  Python was created by Guido van Rossum and first released in 1991. Python has a design philosophy that emphasizes code readability (notably using whitespace indentation to delimit code blocks rather than curly brackets or keywords), and a syntax that allows programmers to express concepts in fewer lines of code than might be used in other languages.\n",
    "\n",
    "The core philosophy of the language is summarized by the document The Zen of Python, which includes aphorisms such as:\n",
    "\n",
    "* Beautiful is better than ugly\n",
    "* Explicit is better than implicit\n",
    "* Simple is better than complex\n",
    "* Complex is better than complicated\n",
    "* Readability counts"
   ]
  },
  {
   "cell_type": "markdown",
   "metadata": {},
   "source": [
    "### Python Syntax\n",
    "\n",
    "Syntax refers to how code is written.  That means the use of spacing, punctuation or characters, curly braces, and/or indentation in the code.  Python's syntax, while easily readable compared to other languages, is still very strict.  A single syntax error in code will cause a Python program to execute completely differently or trigger an error, which halts code execution.\n",
    "\n",
    "Python uses indentation as the primary means of separating code.  You have already seen it in action when looking at the python loop above."
   ]
  },
  {
   "cell_type": "markdown",
   "metadata": {},
   "source": [
    "### Python Comments\n",
    "\n",
    "Typically preceded in a code block with `#`, a comment is text ignored by the computer that we can use to provide additional information to ourselves or other programmers about a certain section of code."
   ]
  },
  {
   "cell_type": "code",
   "execution_count": null,
   "metadata": {},
   "outputs": [],
   "source": [
    "# This line will not run\n",
    "my_list = [1,2,3,4,5] # <--- Everything left of the '#' will be executed\n",
    "print(my_list)"
   ]
  },
  {
   "cell_type": "markdown",
   "metadata": {},
   "source": [
    "### Variables\n",
    "\n",
    "A key component to any programming language, a variable is a stand-in for a certain piece of data, whether it is a static data type or the result of a function.  Like you learned in Algebra with \"x\" as the usual stand-in for a value, variables in Python work the same way but are more powerful.  A variable name in Python will typically be a lowercase word or series of words separated by the underscore character (`_`).  We don't want to use single letters or cryptic words for variables as it is considered bad practice (modern code can contain thousands of variables); it is best practice to be _descriptive_.\n",
    "  \n",
    "  Variables are created or _assigned_ with the assignment operator or `=`.  Unlike you see in math where equations use `=` to illustrate equality, in Python a single `=` is used to assign (or re-assign) variables while `==` is used to compare things or check for equality.  "
   ]
  },
  {
   "cell_type": "code",
   "execution_count": null,
   "metadata": {},
   "outputs": [],
   "source": [
    "# variable initially assigned to memory\n",
    "my_variable = 25\n",
    "\n",
    "print(my_variable)\n",
    "\n",
    "# variable re-assigned\n",
    "my_variable = 35\n",
    "\n",
    "print(my_variable)"
   ]
  },
  {
   "cell_type": "markdown",
   "metadata": {},
   "source": [
    "### Data Types\n",
    "\n",
    "Variables are named locations in memory used to store data during the execution of a script. Each variable has a data type, which dictates the kind of data it can store, such as integers, floating-point numbers, or strings.  Variables are a key component of programming because they allow for code that doesn't have _hard-coded_ values in our script.  Hard coded values can make our code brittle.  There is more about this in the  Hard-Coding vs. Programmatic Coding section below.\n",
    "\n",
    "The Python native data types are listed here with a brief description.  Feel free to look up resources on them now; we will go over them in the first lesson.\n",
    "\n",
    "| Type | Description|\n",
    "|:---:|---:|\n",
    "| String| Sequences of characters including letters, <br>numbers, formatting characters, and/or punctuation |\n",
    "| Integer | Whole numbers without a decimal point |\n",
    "| Float | Number with a decimal point |\n",
    "| Boolean | True or False  |\n",
    "| NoneType | Nothingness or non-existence |\n",
    "\n"
   ]
  },
  {
   "cell_type": "markdown",
   "metadata": {},
   "source": [
    "### Functions or Methods\n",
    "\n",
    "Functions and methods can be thought of as little programs or apps.  They take specified input, do some action, and then usually provide an output or \"return\" something.  Once functions are written, they can be used over and over again as needed.\n",
    "\n",
    "Functions are first _defined_, which means they are written out with all the included code inside, and then they are _called_ with the specific inputs, if any, to be executed.\n",
    "\n",
    "Functions accept __arguments__ or __parameters__, which are the inputs the function needs to run.  The data they represent are provided when the function is called.  Take a look at the example below:"
   ]
  },
  {
   "cell_type": "code",
   "execution_count": null,
   "metadata": {},
   "outputs": [],
   "source": [
    "# Function DEFINED here as \"find_name()\" with argument placeholders\n",
    "def find_name(target_name, input_data):\n",
    "    present = False\n",
    "    # Here the arguments are being used - what is \"input_data\" or \"target_name\" in the context of this function when it is called in the last line?\n",
    "    name_location = input_data.find(target_name)\n",
    "    if name_location != -1:\n",
    "        present = True\n",
    "    return present\n",
    "\n",
    "long_string_of_data = \"Jim Wallace, Bill Smith, Frank Scott, Deborah Randall, Willie Nelson, Kevin Zhang, Reah Nelson, Beth Doran, Aaron Wood, Chance Rooney, Jamal Freeman, Ron Swanson\"\n",
    "\n",
    "# Function CALLED here with the arguments we want to provide\n",
    "find_name(\"Aaron Wood\", long_string_of_data)\n"
   ]
  },
  {
   "cell_type": "code",
   "execution_count": null,
   "metadata": {},
   "outputs": [],
   "source": [
    "# The same function CALLED here again with the arguments we want to provide.  Note that we only have to define a function once and call it as many times as we want!\n",
    "find_name(\"Bill Murray\", long_string_of_data)"
   ]
  },
  {
   "cell_type": "markdown",
   "metadata": {},
   "source": [
    "### Reserved Keywords\n",
    "<a name=\"reserved-keywords\"></a>\n",
    "\n",
    "* [Python: Keywords](https://docs.python.org/3/library/keyword.html) \n",
    "\n",
    "These are special words that Python already recognizes for special use cases and cannot be used, or re-assigned as a variable name.  In an IDE such as a Jupyter Notebook, they usually have some sort of special formatting that gives a visual cue.  See the example below for Python reserved keywords."
   ]
  },
  {
   "cell_type": "code",
   "execution_count": null,
   "metadata": {},
   "outputs": [],
   "source": [
    "# reserved Python keywords - run this cell to see all Python keywords\n",
    "import keyword\n",
    "\n",
    "print(keyword.kwlist)"
   ]
  },
  {
   "cell_type": "markdown",
   "metadata": {},
   "source": [
    "### Built-in Methods\n",
    "\n",
    "\n",
    "* [Python: Built-in Functions](https://docs.python.org/3/library/functions.html)\n",
    "  \n",
    "Some words have a special appearance when presented in an IDE such as a special color, or _italics_. They will also have `()` or `(some_parameter)` following the word(s).  these are examples of built-in methods.  Built-in methods are the exact same as methods (or functions) that you write yourself, but they are in the code behind the scenes.  You just have to call them.  The most prominent built-in method that you have already seen (in the cell above) is the `print()` method.  In Python source code, there is a function written called `print()` that takes a parameter and its purpose is to present whatever the parameter is as the output. \n",
    "\n",
    "Just like you would call `find_name(\"name\")` in the function defined above and use the output, you call `print(whatever_you_want)` to show whatever you want!\n",
    "\n",
    "Another built-in method that takes in user input is the `input()` method.  When called, it will pause the script and provide a field to enter data."
   ]
  },
  {
   "cell_type": "code",
   "execution_count": null,
   "metadata": {},
   "outputs": [],
   "source": [
    "# Defining the user's input as a variable to be referenced later\n",
    "my_input = input(\"Enter what you want right here: \")\n",
    "\n",
    "# Adding an artificial time delay\n",
    "print(\"Processing...\")\n",
    "time.sleep(3)\n",
    "\n",
    "# Printing the user's input with a helpful message\n",
    "print(f\"Here is what you entered: {my_input}\")"
   ]
  },
  {
   "cell_type": "markdown",
   "metadata": {},
   "source": [
    "### Python Libraries\n",
    "\n",
    "* [Python Libraries](https://docs.python.org/3/library/index.html)\n",
    "\n",
    "A Python library is a collection of code included with the language that defines certain methods and also could define the nature of special data types.  For example, there is a `datetime` library that defines the behavior of `datetime` objects made to calculate or track dates or the passage of time.  Libraries are imported at the top of a python file and once the import statement is read, the methods in that library are able to be accessed.  We will go over several libraries in Quick Pass."
   ]
  },
  {
   "cell_type": "markdown",
   "metadata": {},
   "source": [
    "### Hard-Coding vs. Programmatic Coding\n",
    "\n",
    "Hard-coding is when you type explicit values in your code. *Programmatic coding*, is using variables and methods wherever possible. By writing programmatic code, you make your scripts useful to others as well as yourself.  Programmatic code that contains appropriately named variables tends to be easier to read and is flexible to changes.  Below is some code blocks that are written with hard-coded values and an improved version below it replaced with appropriately named variables.  Even without adding comments, the code written with programmatic principles in mind is easier to read. It is also easier to change.  If we need to change the number of diners, we just need to change it in one location vs. four!\n"
   ]
  },
  {
   "cell_type": "code",
   "execution_count": null,
   "metadata": {},
   "outputs": [],
   "source": [
    "total_dinner_cost = 50 * 8.00 + 50 * 25.00 + 50 * 4.00 + 20 * 10.00\n",
    "\n",
    "print('Number of diners:', 50)\n",
    "print('Cost of dinner:', total_dinner_cost)"
   ]
  },
  {
   "cell_type": "code",
   "execution_count": null,
   "metadata": {},
   "outputs": [],
   "source": [
    "num_diners = 50\n",
    "num_alc_option = 20\n",
    "\n",
    "appetizer = 8.00\n",
    "main_course = 25.00\n",
    "dessert =  4.00\n",
    "alc_drink =  10.00\n",
    "\n",
    "\n",
    "total_dinner_cost = num_diners * (appetizer + main_course + dessert) + num_alc_option * alc_drink\n",
    "print('Number of diners:', num_diners)\n",
    "print('Cost of dinner:', total_dinner_cost)"
   ]
  },
  {
   "cell_type": "markdown",
   "metadata": {},
   "source": [
    "## Problem Solving Strategies for Developers\n",
    "\n",
    "As a software developer, your daily grind involves tackling a myriad of puzzles. Whether you’re part of an application development team or working on your own project, problem-solving is at the core of what we do. Software engineeers are builders and the traditional end goal is to build a functional application—the grand challenge that takes months to crack. Building it can be defined as one big problem to solve, but that one problem contains hundreds or even thousands of smaller problems that we have to address. Take authentication, for instance. Let's say you are creating a module that validates user credentials to let them log-in. Sounds simple, right? Yet beneath the surface lie a cascade of smaller problems: data types, formatting, comparisons, validation, etc.  How can we address all of them in the right way?  That is where these techniques come into play."
   ]
  },
  {
   "cell_type": "markdown",
   "metadata": {},
   "source": [
    "### Understanding the Problem"
   ]
  },
  {
   "cell_type": "markdown",
   "metadata": {},
   "source": [
    "#### Problem Statement Analysis\n",
    "\n",
    "\n",
    "- Understand the problem statement thoroughly.\n",
    "- Identify input, output, and expected behavior.\n",
    "- Clarify ambiguities and constraints.\n",
    "- Create an example or use case to illustrate the problem."
   ]
  },
  {
   "cell_type": "markdown",
   "metadata": {},
   "source": [
    "#### Identifying Constraints and Requirements\n",
    "\n",
    "- Identify constraints on time, memory, or other resources.\n",
    "- Consider special requirements or edge cases.\n",
    "- Understand the problem's context and potential real-world impact."
   ]
  },
  {
   "cell_type": "markdown",
   "metadata": {},
   "source": [
    "### Decomposition"
   ]
  },
  {
   "cell_type": "markdown",
   "metadata": {},
   "source": [
    "#### Breaking Down Complex Problems\n",
    "\n",
    "- Divide complex problems into smaller, more manageable parts.\n",
    "- Define the main components of the problem.\n",
    "- Prioritize subproblems and plan your approach."
   ]
  },
  {
   "cell_type": "markdown",
   "metadata": {},
   "source": [
    "#### Identifying Relevant Data and Processes\n",
    "\n",
    "- Determine what data and operations are required to solve each subproblem.\n",
    "- Sketch a high-level plan of how subproblems interact.\n",
    "- Visualize the problem structure."
   ]
  },
  {
   "cell_type": "markdown",
   "metadata": {},
   "source": [
    "### Algorithm Design"
   ]
  },
  {
   "cell_type": "markdown",
   "metadata": {},
   "source": [
    "#### Selecting Appropriate Data Structures\n",
    "\n",
    "- Choose the right data structures to represent problem components.\n",
    "- Evaluate the trade-offs of different data structures (lists, dictionaries, sets, etc.).\n",
    "- Optimize data access and manipulation."
   ]
  },
  {
   "cell_type": "markdown",
   "metadata": {},
   "source": [
    "#### Creating Algorithms to Solve Subproblems\n",
    "\n",
    "- Design algorithms for each subproblem.\n",
    "- Use pseudocode or flowcharts to outline your approach.\n",
    "- Optimize the efficiency of your algorithms."
   ]
  },
  {
   "cell_type": "markdown",
   "metadata": {},
   "source": [
    "### Coding and Debugging"
   ]
  },
  {
   "cell_type": "markdown",
   "metadata": {},
   "source": [
    "#### Translating Your Algorithm into Python Code\n",
    "\n",
    "- Write clean, modular, and readable code.\n",
    "- Follow Python coding conventions (PEP 8).\n",
    "- Use meaningful variable names and comments."
   ]
  },
  {
   "cell_type": "markdown",
   "metadata": {},
   "source": [
    "#### Strategies for Debugging and Troubleshooting\n",
    "\n",
    "- Apply debugging techniques (print statements, debugging tools).\n",
    "- Handle exceptions and errors gracefully.\n",
    "- Fix issues systematically."
   ]
  },
  {
   "cell_type": "markdown",
   "metadata": {},
   "source": [
    "### Documentation and Collaboration"
   ]
  },
  {
   "cell_type": "markdown",
   "metadata": {},
   "source": [
    "#### Writing Clear and Concise Code Comments\n",
    "\n",
    "- Document code to make it understandable to others.\n",
    "- Describe the purpose of functions and complex logic.\n",
    "- Include usage examples when relevant."
   ]
  },
  {
   "cell_type": "markdown",
   "metadata": {},
   "source": [
    "#### Collaborating Effectively with Team Members\n",
    "\n",
    "- Communicate changes and updates with your team.\n",
    "- Use version control systems (e.g., Git) to manage code.\n",
    "- Foster a collaborative development environment."
   ]
  },
  {
   "cell_type": "markdown",
   "metadata": {},
   "source": [
    "### Optimization"
   ]
  },
  {
   "cell_type": "markdown",
   "metadata": {},
   "source": [
    "#### Analyzing Code for Performance Bottlenecks\n",
    "\n",
    "- Profile your code to identify performance bottlenecks.\n",
    "- Apply algorithmic and code-level optimizations.\n",
    "- Balance between time and memory efficiency."
   ]
  },
  {
   "cell_type": "markdown",
   "metadata": {},
   "source": [
    "### Iteration and Refinement"
   ]
  },
  {
   "cell_type": "markdown",
   "metadata": {},
   "source": [
    "#### Continuously Improving Your Solution\n",
    "\n",
    "- Seek feedback from peers and mentors.\n",
    "- Iterate on your code to make it more elegant and efficient.\n",
    "- Update documentation to reflect changes."
   ]
  },
  {
   "cell_type": "markdown",
   "metadata": {},
   "source": [
    "## Resources\n",
    "\n",
    "One of the most wonderful things about the software engineering field is the availability of online resources to discover a solution to your problem.  It is a fact that the vast majority of your time when \"developing\" is actually reading & searching for solutions, tools, methods, etc. to successfully complete your project.  In addition to what has already been shared above, below is a categorized listing of resources that you can use throughout this course and beyond (more will be introduced as well):\n"
   ]
  },
  {
   "cell_type": "markdown",
   "metadata": {},
   "source": [
    "\n",
    "### Interactive Learning Platforms\n",
    "* **Codecademy** - [https://www.codecademy.com/](https://www.codecademy.com/)\n",
    "* **freeCodeCamp** - [https://www.freecodecamp.org/](https://www.freecodecamp.org/)\n",
    "* **Khan Academy** - [https://www.khanacademy.org/](https://www.khanacademy.org/)\n",
    "* **LeetCode** - [https://leetcode.com/](https://leetcode.com/)\n",
    "\n",
    "### Video Tutorials\n",
    "* **Coursera** - [https://www.coursera.org/](https://www.coursera.org/)\n",
    "* **edX** - [https://www.edx.org/](https://www.edx.org/)\n",
    "* **Udacity** - [https://www.udacity.com/](https://www.udacity.com/)\n",
    "\n",
    "\n",
    "### Documentation and Reference\n",
    "* **Mozilla Developer Network (MDN)** - [https://developer.mozilla.org/](https://developer.mozilla.org/)\n",
    "* **W3Schools** - [https://www.w3schools.com/](https://www.w3schools.com/)\n",
    "* **Microsoft Learn** - [https://learn.microsoft.com/](https://learn.microsoft.com/)\n",
    "\n",
    "### Books and Guides\n",
    "* **Eloquent JavaScript** - [https://eloquentjavascript.net/](https://eloquentjavascript.net/)\n",
    "* **Automate the Boring Stuff with Python** - [https://automatetheboringstuff.com/](https://automatetheboringstuff.com/)\n",
    "\n",
    "### Forums and Communities\n",
    "* **Stack Overflow** - [https://stackoverflow.com/](https://stackoverflow.com/)\n",
    "* **GitHub** - [https://github.com/](https://github.com/)\n",
    "* **Reddit** - [https://www.reddit.com/](https://www.reddit.com/) (Look for specific subreddits like r/learnprogramming and r/webdev)\n",
    "\n",
    "### Practice and Challenges\n",
    "* **HackerRank** - [https://www.hackerrank.com/](https://www.hackerrank.com/)\n",
    "* **CodeSignal** - [https://codesignal.com/](https://codesignal.com/)\n",
    "* **Project Euler** - [https://projecteuler.net/](https://projecteuler.net/)\n",
    "\n",
    "### Tools and Editors\n",
    "* **Visual Studio Code** - [https://code.visualstudio.com/](https://code.visualstudio.com/)\n",
    "* **Git** - [https://git-scm.com/](https://git-scm.com/)"
   ]
  }
 ],
 "metadata": {
  "kernelspec": {
   "display_name": "Python 3",
   "language": "python",
   "name": "python3"
  },
  "language_info": {
   "codemirror_mode": {
    "name": "ipython",
    "version": 3
   },
   "file_extension": ".py",
   "mimetype": "text/x-python",
   "name": "python",
   "nbconvert_exporter": "python",
   "pygments_lexer": "ipython3",
   "version": "3.11.9"
  }
 },
 "nbformat": 4,
 "nbformat_minor": 2
}
