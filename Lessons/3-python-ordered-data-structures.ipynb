{
 "cells": [
  {
   "cell_type": "markdown",
   "metadata": {},
   "source": [
    "# Python Ordered Data Structures <a id=\"title\"></a>\n",
    "\n",
    "## Introduction\n",
    "\n",
    "Welcome to today's lecture on ordered data structures in Python, Lists and Tuples. Lists and tuples are fundamental data structures used for storing collections of items. In this lesson, we'll explore the capabilities and limitations of ordered data structures, understand the concepts of mutability and immutability, and delve into the usage of various built-in methods."
   ]
  },
  {
   "cell_type": "markdown",
   "metadata": {},
   "source": [
    "## Table of Contents\n",
    "- [Python Ordered Data Structures](#title)\n",
    "  - [Introduction](#introduction)\n",
    "  - [Table of Contents](#table-of-contents)\n",
    "  - [Lists](#lists)\n",
    "    - [Creating Lists](#creating-lists)\n",
    "    - [List Operations and Methods](#list-operations-and-methods)\n",
    "      - [List Operations](#list-operations)\n",
    "      - [List Methods](#list-methods)\n",
    "  - [Tuples](#tuples)\n",
    "    - [Creating Tuples](#creating-tuples)\n",
    "    - [Tuple Operations](#tuple-operations)\n",
    "  - [Conclusion](#conclusion)\n",
    "  - [Assignments](#assignments)"
   ]
  },
  {
   "cell_type": "markdown",
   "metadata": {},
   "source": [
    "Ordered data structures, also called _sequences_, are ordered grouping of elements, each with their own index, which is a number that marks their place in the sequence.  Just like you learned with Strings (which are Python sequences), this indexing starts at 0.\n",
    "\n",
    "<img src=\"../GRAPHICS/python_index.png\" width=\"30%\">"
   ]
  },
  {
   "cell_type": "markdown",
   "metadata": {},
   "source": [
    "## Lists\n",
    "\n",
    "Lists are containers that hold objects in a given order. Lists are _mutable_, meaning they allow you to add, remove, or overwrite individual elements inside them. In Python, lists are wrapped in square brackets `[]`.  Unlike some languages, Python lists can contain mixed data types.\n"
   ]
  },
  {
   "cell_type": "markdown",
   "metadata": {},
   "source": [
    "### Creating Lists\n",
    "\n",
    "To initialize or create an empty list, Python has a built-in method `list()`, or you can use empty brackets."
   ]
  },
  {
   "cell_type": "code",
   "execution_count": null,
   "metadata": {},
   "outputs": [],
   "source": [
    "my_list = list()\n",
    "my_list"
   ]
  },
  {
   "cell_type": "markdown",
   "metadata": {},
   "source": [
    "* Note: \"list\" is a Python built-in method name.  Like reserved words, they have a special use case right out of the box and are usually presented with a special text formatting in an IDE.  Unlike reserved words, they __CAN BE OVERWRITTEN__.  If you were to name a new list with just the name \"list\", you will overwrite the built-in method.\n",
    "\n",
    "  ```python\n",
    "  list = [1,2,3,4,5]\n",
    "\n",
    "  my_new_list = list()  # Will result in an error.\n",
    "  ```\n",
    "\n",
    "  If you find that you have written over a built-in Python function, you will need to restart the Python kernel."
   ]
  },
  {
   "cell_type": "code",
   "execution_count": null,
   "metadata": {},
   "outputs": [],
   "source": [
    "list = [1,2,3,4,5]\n",
    "list"
   ]
  },
  {
   "cell_type": "markdown",
   "metadata": {},
   "source": [
    "You can also create a list with data, or elements, already inside.  You just need to wrap the items with the brackets and separate each item with a comma."
   ]
  },
  {
   "cell_type": "code",
   "execution_count": null,
   "metadata": {},
   "outputs": [],
   "source": [
    "num_list = [0,1,2,3,4,5,6,7,8,9]\n",
    "num_list"
   ]
  },
  {
   "cell_type": "code",
   "execution_count": null,
   "metadata": {},
   "outputs": [],
   "source": [
    "str_list = ['I', 'love', 'Python']\n",
    "str_list"
   ]
  },
  {
   "cell_type": "markdown",
   "metadata": {},
   "source": [
    "Lists can contain other collections, such as lists.  Lists stored inside of other lists are considered _nested lists_."
   ]
  },
  {
   "cell_type": "code",
   "execution_count": null,
   "metadata": {},
   "outputs": [],
   "source": [
    "list_with_lists = ['a', 'b', 'c', ['d', 'e', 'f']]\n",
    "list_with_lists"
   ]
  },
  {
   "cell_type": "markdown",
   "metadata": {},
   "source": [
    "### List Operations and Methods\n",
    "\n",
    "There are a number of methods (i.e. functions) that can be applied to lists.  \n",
    "\n",
    "Let's initialize a list of our \"bucket list\" travel locations and explore the various list operations and methods available to us."
   ]
  },
  {
   "cell_type": "code",
   "execution_count": null,
   "metadata": {},
   "outputs": [],
   "source": [
    "travel_bucket_list = ['New Zealand', \"Antarctica\", \"Italy\", \"Chile\", \"Fiji\", \"Ireland\", \"Morocco\"]\n",
    "print(travel_bucket_list)"
   ]
  },
  {
   "cell_type": "markdown",
   "metadata": {},
   "source": [
    "Like accessing individual elements in a string, you can add the square brackets after the list name to access individual elements in a list.  Unlike strings, however, you can also use an assignment operator (`=`) to overwrite the element at that location with a new value.\n",
    "\n",
    "| Syntax                 | Description                               |\n",
    "|:----------------------:|-------------------------------------------|\n",
    "| `list_variable[n]` |Accesses the item at index `[n]` |\n",
    "| `list_variable[n] = x` |Sets the item at index `[n]` to  `x` |\n",
    "\n",
    "Related to grabbing a single index, you can also slice python lists like youdid with strings.\n",
    "\n",
    "| Syntax                 | Description                               |\n",
    "|:----------------------:|-------------------------------------------|\n",
    "| `list_variable[start:stop]` |Accesses the sub-list from `start` index up to but not including `stop` |"
   ]
  },
  {
   "cell_type": "code",
   "execution_count": null,
   "metadata": {},
   "outputs": [],
   "source": [
    "travel_bucket_list[4] # grabbing a single index"
   ]
  },
  {
   "cell_type": "code",
   "execution_count": null,
   "metadata": {},
   "outputs": [],
   "source": [
    "travel_bucket_list[::-1] # slicing a string"
   ]
  },
  {
   "cell_type": "code",
   "execution_count": null,
   "metadata": {},
   "outputs": [],
   "source": [
    "travel_bucket_list[4] = \"Texas\"\n",
    "travel_bucket_list"
   ]
  },
  {
   "cell_type": "markdown",
   "metadata": {},
   "source": [
    "#### List Operations\n",
    "\n",
    "List operations include checking the length of a list, checking membership (results in a boolean), or using loops to iterate and perform operations on each element."
   ]
  },
  {
   "cell_type": "code",
   "execution_count": null,
   "metadata": {},
   "outputs": [],
   "source": [
    "len(travel_bucket_list)"
   ]
  },
  {
   "cell_type": "code",
   "execution_count": null,
   "metadata": {},
   "outputs": [],
   "source": [
    "print(\"Fiji\" in travel_bucket_list)\n",
    "print(\"Texas\" in travel_bucket_list)"
   ]
  },
  {
   "cell_type": "markdown",
   "metadata": {},
   "source": [
    "#### List Methods:\n",
    "\n",
    "| Method                | Description                               |\n",
    "|:----------------------:|-------------------------------------------|\n",
    "| `list.append(x)`| Add an item to the end of the list.|\n",
    "| `list.extend(iterable)`| Extend the list by appending elements from the iterable.|\n",
    "| `list.insert(i, x)`| Insert an item at a given position.|\n",
    "| `list.clear()`| Remove all items from the list.|\n",
    "| `list.index(x)`| Return the index of the first item with a specific value.|\n",
    "| `list.count(x)`| Return the number of times a specific value appears in the list.|\n",
    "| `list.sort()`| Sort the items of the list in place.|\n",
    "| `list.reverse()`| Reverse the elements of the list in place.|\n",
    "| `list.copy()`| Return a shallow copy of the list.|"
   ]
  },
  {
   "cell_type": "code",
   "execution_count": null,
   "metadata": {},
   "outputs": [],
   "source": [
    "travel_bucket_list.append(\"Germany\")\n",
    "travel_bucket_list"
   ]
  },
  {
   "cell_type": "code",
   "execution_count": null,
   "metadata": {},
   "outputs": [],
   "source": [
    "travel_bucket_list.extend([\"Argentina\", \"Thailand\", \"Australia\"])\n",
    "travel_bucket_list"
   ]
  },
  {
   "cell_type": "code",
   "execution_count": null,
   "metadata": {},
   "outputs": [],
   "source": [
    "travel_bucket_list.insert(0, \"Canada\")\n",
    "travel_bucket_list"
   ]
  },
  {
   "cell_type": "markdown",
   "metadata": {},
   "source": [
    "While the `.append()` method and `.extend()` method are very similar, they are also very different. Look at the examples below and note how the two work differently."
   ]
  },
  {
   "cell_type": "code",
   "execution_count": null,
   "metadata": {},
   "outputs": [],
   "source": [
    "travel_bucket_list.append([\"Peru\", \"Dominican Republic\"])\n",
    "travel_bucket_list"
   ]
  },
  {
   "cell_type": "code",
   "execution_count": null,
   "metadata": {},
   "outputs": [],
   "source": [
    "travel_bucket_list.extend(\"Japan\")\n",
    "travel_bucket_list"
   ]
  },
  {
   "cell_type": "markdown",
   "metadata": {},
   "source": [
    "As we see here, `.append()` will always add the argument to the list as a single item, even if your argument is a list of things. On the other hand, `.extend()` will always treat the argument as a sequence of things and try to add each individual item to the list."
   ]
  },
  {
   "cell_type": "markdown",
   "metadata": {},
   "source": [
    "The `.remove()` method searches a list for a value specified and removes the first instance of that value from the collection. The `.pop()` method also removes an item from the list. But instead of specifying a value, we have to give it an index location. Furthermore, `.pop()` removes the item but also _returns_ it, meaning that it is made available to be, for instance, stored in a variable.\n",
    "\n",
    "| Method               | Description                               |\n",
    "|:----------------------:|-------------------------------------------|\n",
    "|`list.remove(x)`          | Removes the first appearance of `x` in the list |\n",
    "|`list.pop(i)` | Removes the item at index `i` in the list and returns that item |"
   ]
  },
  {
   "cell_type": "markdown",
   "metadata": {},
   "source": [
    "Let's clean up the mistake we made above when using the `.extend()` method with a single string ('Japan'). We'll have to remove each letter one by one."
   ]
  },
  {
   "cell_type": "code",
   "execution_count": null,
   "metadata": {},
   "outputs": [],
   "source": [
    "travel_bucket_list.remove('J')\n",
    "travel_bucket_list.remove('a') # Removes only the first entry so there will be another one\n",
    "travel_bucket_list.remove('p')\n",
    "travel_bucket_list.remove('n')"
   ]
  },
  {
   "cell_type": "code",
   "execution_count": null,
   "metadata": {},
   "outputs": [],
   "source": [
    "travel_bucket_list"
   ]
  },
  {
   "cell_type": "code",
   "execution_count": null,
   "metadata": {},
   "outputs": [],
   "source": [
    "travel_bucket_list.remove('a')\n",
    "travel_bucket_list"
   ]
  },
  {
   "cell_type": "code",
   "execution_count": null,
   "metadata": {},
   "outputs": [],
   "source": [
    "spouse_bucket_item = travel_bucket_list.pop(-1) # removes and returns the last entry from list\n",
    "spouse_bucket_item"
   ]
  },
  {
   "cell_type": "code",
   "execution_count": null,
   "metadata": {},
   "outputs": [],
   "source": [
    "travel_bucket_list"
   ]
  },
  {
   "cell_type": "markdown",
   "metadata": {},
   "source": [
    "The `.index()` method searches a list for a given value, and returns the index position of the first instance of the value. If the value is not in the list, this method throws an error. The `.count()` method counts the number of times a value appears in a list.\n",
    "\n",
    "| Syntax               | Description                               |\n",
    "|:----------------------:|-------------------------------------------|\n",
    "|`list_variable.index(x)` | Returns the index where `x` first appears in the list; <br>Throws an error if `x` is not contained in the list |\n",
    "|`list_variable.count(x)`| Counts the number of times `x` appears in the list |"
   ]
  },
  {
   "cell_type": "code",
   "execution_count": null,
   "metadata": {},
   "outputs": [],
   "source": [
    "travel_bucket_list.index(\"Texas\")"
   ]
  },
  {
   "cell_type": "code",
   "execution_count": null,
   "metadata": {},
   "outputs": [],
   "source": [
    "travel_bucket_list.count(\"Texas\")"
   ]
  },
  {
   "cell_type": "markdown",
   "metadata": {},
   "source": [
    "The `sort()` method sorts a list.  It sorts in an ascending order by default.  You can pass in the `reverse=True` flag to sort in descending order.\n",
    "\n",
    "* Note: This method mutates the original list, so if the original order is important, please do not use this method.\n",
    "\n",
    "The `sorted()` method returns a copy of the sorted list that you can assign to a new variable but leaves the original list intact."
   ]
  },
  {
   "cell_type": "code",
   "execution_count": null,
   "metadata": {},
   "outputs": [],
   "source": [
    "travel_bucket_list.sort(reverse=True)\n",
    "travel_bucket_list"
   ]
  },
  {
   "cell_type": "code",
   "execution_count": null,
   "metadata": {},
   "outputs": [],
   "source": [
    "travel_bucket_list"
   ]
  },
  {
   "cell_type": "code",
   "execution_count": null,
   "metadata": {},
   "outputs": [],
   "source": [
    "other_sorted_travel_bucket_list = sorted(travel_bucket_list, reverse=True)\n",
    "print(travel_bucket_list)\n",
    "print(other_sorted_travel_bucket_list)"
   ]
  },
  {
   "cell_type": "markdown",
   "metadata": {},
   "source": [
    "Exercise:\n",
    "\n",
    "Create your own list of places you want to travel. Use list methods to add them to the `travel_bucket_list`"
   ]
  },
  {
   "cell_type": "code",
   "execution_count": null,
   "metadata": {},
   "outputs": [],
   "source": [
    "## Your code goes here\n"
   ]
  },
  {
   "cell_type": "markdown",
   "metadata": {},
   "source": [
    "## Tuples"
   ]
  },
  {
   "cell_type": "markdown",
   "metadata": {},
   "source": [
    "### Creating Tuples\n",
    "\n",
    "Tuples are `ordered collections`, similar to lists, but are _immutable_.  They are denoted with `parentheses` instead of square brackets.  Like all immutable objects, you cannot add, subtract, or edit items in place.  To change data in a tuple, you must overwrite the entire structure.  This attribute makes tuples great for data that stays static, such as days of the week or coordinate pairs."
   ]
  },
  {
   "cell_type": "code",
   "execution_count": null,
   "metadata": {},
   "outputs": [
    {
     "data": {
      "text/plain": [
       "(1, 2, 3, 4)"
      ]
     },
     "execution_count": 16,
     "metadata": {},
     "output_type": "execute_result"
    }
   ],
   "source": [
    "tuple_1 = (1, 2, 3) # Creates a immutable tuple of integers\n",
    "\n",
    "tuple_2 = (4,) # Creates a tuple with one element\n",
    "\n"
   ]
  },
  {
   "cell_type": "markdown",
   "metadata": {},
   "source": [
    "### Tuple Operations\n",
    "\n",
    "Since tuples are ordered collections like lists, some operations will work with tuples as they will with lists(iteration, checking length, checking membership).\n"
   ]
  },
  {
   "cell_type": "code",
   "execution_count": null,
   "metadata": {},
   "outputs": [],
   "source": [
    "coordinates = (3, 4)\n",
    "length = len(coordinates)  # Result: 2\n",
    "print(length)\n",
    "is_five_present = 5 in coordinates  # Result: False\n",
    "print(is_five_present)"
   ]
  },
  {
   "cell_type": "markdown",
   "metadata": {},
   "source": [
    "Here are some examples of methods that work with tuples."
   ]
  },
  {
   "cell_type": "code",
   "execution_count": null,
   "metadata": {},
   "outputs": [],
   "source": [
    "my_tuple = (1,4,3,8,45,234,5,45,346,678,23,4,2,99,100)\n",
    "\n",
    "print(min(my_tuple))\n",
    "print(max(my_tuple))\n",
    "print(sum(my_tuple))"
   ]
  },
  {
   "cell_type": "markdown",
   "metadata": {},
   "source": [
    "Other methods that we find with lists that change the order of elements, or alter the elements in any way, will not work with tuples.  the list method `sort()`, while useful for lists, will not work with tuples because they re-order the elements.  In the example below, you can see that the `sort()` method is not highlighting as you would see with a list."
   ]
  },
  {
   "cell_type": "code",
   "execution_count": null,
   "metadata": {},
   "outputs": [],
   "source": [
    "my_tuple.sort()"
   ]
  },
  {
   "cell_type": "markdown",
   "metadata": {},
   "source": [
    "You are able to concatanate tuples together using the `+` operator or you can even duplicate the tuple using the `*` operator"
   ]
  },
  {
   "cell_type": "code",
   "execution_count": null,
   "metadata": {},
   "outputs": [],
   "source": [
    "tuple_1 = (1, 2, 3)\n",
    "tuple_2 = (4,)\n",
    "\n",
    "tuple_3 = tuple_1 + tuple_2\n",
    "tuple_4 = tuple_1 * tuple_2[0]\n",
    "\n",
    "print(tuple_3)\n",
    "print(tuple_4)"
   ]
  },
  {
   "cell_type": "markdown",
   "metadata": {},
   "source": [
    "### Conclusion\n",
    "\n",
    "In this lecture, you've explored the capabilities and limitations of Python lists and tuples. Lists are mutable and offer extensive methods for manipulation, making them suitable for dynamic collections. Tuples, on the other hand, are immutable and provide security for data that should not change. Understanding when and how to use each structure is crucial in Python programming.\n",
    "\n",
    "Remember to practice and apply these concepts in your Python projects to become proficient in working with lists and tuples."
   ]
  },
  {
   "cell_type": "markdown",
   "metadata": {},
   "source": [
    "### Assignments\n"
   ]
  },
  {
   "cell_type": "code",
   "execution_count": null,
   "metadata": {},
   "outputs": [],
   "source": [
    "# You will be given a list and a non-negative integer n.\n",
    "# Your task is to write a function that rotates the list to the left by n positions.\n",
    "# For example, rotating [1, 2, 3, 4, 5] by 2 positions results in [3, 4, 5, 1, 2].\n",
    "# You must NOT use any loops or iteration (such as comprehensions).\n",
    "#\n",
    "# Hint: Think about how you can \"cut\" the list into two pieces and swap their positions.\n",
    "\n",
    "def rotate_left(lst, n):\n",
    "    pass\n",
    "\n",
    "# Test cases\n",
    "print(rotate_left([1, 2, 3, 4, 5], 2) == [3, 4, 5, 1, 2])\n",
    "print(rotate_left([10, 20, 30, 40, 50, 60], 4) == [50, 60, 10, 20, 30, 40])\n",
    "print(rotate_left(['a', 'b', 'c', 'd'], 1) == ['b', 'c', 'd', 'a'])\n",
    "print(rotate_left(['hello', 'world'], 0) == ['hello', 'world'])"
   ]
  },
  {
   "cell_type": "code",
   "execution_count": null,
   "metadata": {},
   "outputs": [],
   "source": [
    "# You will be given a list with an even number of elements.\n",
    "# Your task is to write a function called reverse_second_half that returns a new list where:\n",
    "#   - The first half of the list remains unchanged.\n",
    "#   - The second half of the list is reversed.\n",
    "#\n",
    "# For example, given the list [1, 2, 3, 4, 5, 6], the function should return [1, 2, 3, 6, 5, 4].\n",
    "#\n",
    "# You may NOT use any loops or iterations (including list comprehensions).\n",
    "# Hint: Use slicing to split the list and to reverse a slice.\n",
    "\n",
    "def reverse_second_half(lst):\n",
    "    pass\n",
    "\n",
    "# Test cases:\n",
    "print(reverse_second_half([1, 2, 3, 4, 5, 6]) == [1, 2, 3, 6, 5, 4])\n",
    "print(reverse_second_half(['a', 'b', 'c', 'd']) == ['a', 'b', 'd', 'c'])\n",
    "print(reverse_second_half([True, False, True, False]) == [True, False, False, True])"
   ]
  },
  {
   "cell_type": "code",
   "execution_count": null,
   "metadata": {},
   "outputs": [],
   "source": [
    "# The museum of incredible dull things\n",
    "# The museum of incredible dull things wants to get rid of some exhibitions. Miriam, the interior architect, comes up with a plan to remove the most boring exhibitions. She gives them a rating, and then removes the one with the lowest rating.\n",
    "\n",
    "# However, just as she finished rating all exhibitions, she's off to an important fair, so she asks you to write a program that tells her the ratings of the items after one removed the lowest one. Fair enough.\n",
    "\n",
    "# Task\n",
    "# Given an array of integers, remove the smallest value. Do not mutate the original array/list. If there are multiple elements with the same value, remove the one with a lower index. If you get an empty array/list, return an empty array/list.\n",
    "\n",
    "# Don't change the order of the elements that are left.\n",
    "\n",
    "\n",
    "def remove_smallest(numbers):\n",
    "  pass\n",
    "\n",
    "\n",
    "print(remove_smallest([1, 2, 3, 4, 5]) == [2, 3, 4, 5])\n",
    "print(remove_smallest([5, 3, 2, 1, 4]) == [5, 3, 2, 4])\n",
    "print(remove_smallest([1, 2, 3, 1, 1]) == [2, 3, 1, 1])\n",
    "print(remove_smallest([]) == [])"
   ]
  }
 ],
 "metadata": {
  "kernelspec": {
   "display_name": "qpenv",
   "language": "python",
   "name": "python3"
  },
  "language_info": {
   "codemirror_mode": {
    "name": "ipython",
    "version": 3
   },
   "file_extension": ".py",
   "mimetype": "text/x-python",
   "name": "python",
   "nbconvert_exporter": "python",
   "pygments_lexer": "ipython3",
   "version": "3.10.12"
  }
 },
 "nbformat": 4,
 "nbformat_minor": 2
}
