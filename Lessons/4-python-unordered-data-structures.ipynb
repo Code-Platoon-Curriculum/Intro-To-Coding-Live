{
 "cells": [
  {
   "cell_type": "markdown",
   "metadata": {},
   "source": [
    "# Python Unordered Data Structures and Their Built-in Methods <a id=\"title\"></a>\n",
    "\n",
    "\n",
    "Welcome to today's lecture on Python unordered data structures. Sets and dictionaries are fundamental data structures in Python, each serving unique purposes. In this lesson, we will explore these data structures in-depth and uncover their unique properties and methods."
   ]
  },
  {
   "cell_type": "markdown",
   "metadata": {},
   "source": [
    "## Table of Contents\n",
    "- [Python Unordered Data Structures and Their Built-in Methods](#title)\n",
    "- [Table of Contents](#table-of-contents)\n",
    "  - [Sets](#sets)\n",
    "    - [Creating Sets](#creating-sets)\n",
    "    - [Set Methods](#set-methods)\n",
    "  - [Dictionaries](#dictionaries)\n",
    "    - [Creating Dictionaries](#creating-dictionaries)\n",
    "    - [Dictionary Methods](#d-dictionary-methods-15-minutes)\n",
    "  - [Common Operations Across Data Structures](#common-operations-across-data-structures)\n",
    "  - [Conclusion](#conclusion)\n",
    "  - [Assignments](#assignments)"
   ]
  },
  {
   "cell_type": "markdown",
   "metadata": {},
   "source": [
    "<hr>"
   ]
  },
  {
   "cell_type": "markdown",
   "metadata": {},
   "source": [
    "### Sets\n",
    "\n",
    "* [Python: Sets](https://docs.python.org/3/tutorial/datastructures.html#sets)\n",
    "\n",
    "Sets are mutable, unordered collections of unique elements.  Because they are unordered, sets are not cosidered sequences, like lists, and cannot support indexing or slicing.  They do, however, support mathematical operations like union, difference, and symmetric difference.  Sets are used for membership testing and deduplication."
   ]
  },
  {
   "cell_type": "markdown",
   "metadata": {},
   "source": [
    "#### Creating Sets\n",
    "\n",
    "Empty sets can only be instantiated with the `set()` built-in method.  If you want to create a set with elements, you will wrap the elements with curly braces `{}`.  Please note that if you define an empty set with empty curly braces, Python will interpret that as an empty dictionary.\n"
   ]
  },
  {
   "cell_type": "code",
   "execution_count": null,
   "metadata": {},
   "outputs": [],
   "source": [
    "my_set = set()\n",
    "my_set"
   ]
  },
  {
   "cell_type": "code",
   "execution_count": null,
   "metadata": {},
   "outputs": [],
   "source": [
    "my_set = {1,2,3,4,5}"
   ]
  },
  {
   "cell_type": "markdown",
   "metadata": {},
   "source": [
    "One of the unique properties of sets is that they automatically deduplicate values.  Set elements must be unique, so duplicate values are dropped if they exist more than once upon set creation.  This property highlights the fact that sets are unordered collections."
   ]
  },
  {
   "cell_type": "code",
   "execution_count": null,
   "metadata": {},
   "outputs": [],
   "source": [
    "my_set = {1,1,2,'a',3,4,'b',1,5,7,'a',6,3,5,1,'y',1,1,1}\n",
    "my_tuple = (1,1,2,'a',3,4,'b',1,5,7,'a',6,3,5,1,'y',1,1,1)\n",
    "print(my_set)\n",
    "print(my_tuple)"
   ]
  },
  {
   "cell_type": "markdown",
   "metadata": {},
   "source": [
    "We know that each value is unique in this set, but which item of the duplicates were actually included?"
   ]
  },
  {
   "cell_type": "markdown",
   "metadata": {},
   "source": [
    "#### Set Methods"
   ]
  },
  {
   "cell_type": "markdown",
   "metadata": {},
   "source": [
    "To add elements to a set, we use the `.add()` method. To remove individual elements from a set, use the `.remove()` method.\n",
    "\n",
    "| Syntax               | Description                               |\n",
    "|:----------------------:|-------------------------------------------|\n",
    "|`set_variable.add(elem)`  | Adds `elem` to the set |\n",
    "|`set_variable.remove(elem)`| Removes `elem` from the set |\n",
    "|`set_variable.pop()`| Removes and returns a random item from the set |"
   ]
  },
  {
   "cell_type": "code",
   "execution_count": null,
   "metadata": {},
   "outputs": [],
   "source": [
    "my_set.add(500)\n",
    "my_set"
   ]
  },
  {
   "cell_type": "code",
   "execution_count": null,
   "metadata": {},
   "outputs": [],
   "source": [
    "my_set.remove(500)\n",
    "my_set"
   ]
  },
  {
   "cell_type": "markdown",
   "metadata": {},
   "source": [
    "The `pop()` command removes and returns an arbitrary item from the set. You cannot specify an index with `pop()` because sets are unordered."
   ]
  },
  {
   "cell_type": "code",
   "execution_count": null,
   "metadata": {},
   "outputs": [],
   "source": [
    "item = my_set.pop()\n",
    "print(item, my_set)"
   ]
  },
  {
   "cell_type": "markdown",
   "metadata": {},
   "source": [
    "Python sets support specific mathematical operations.  These concepts can be illustrated with venn diagrams you've probably seen in math class.\n",
    "\n",
    "<img src=\"../GRAPHICS/venn_diagram.png\" height=\"400px\">"
   ]
  },
  {
   "cell_type": "markdown",
   "metadata": {},
   "source": [
    "| Code| Mathematical Operation  | Description                       | Graphical Representation   |\n",
    "|:----------------------:|:-----:|:------------------------------:|:----------------------------:|\n",
    "| `a.intersection(b)`|Intersection | Returns elements that appear in both set `a` and set `b`| <img src=\"../GRAPHICS/intersection.png\" width=\"40%\">|\n",
    "| `a.union(b)`|Union| Returns elements in either set `a` or set `b` |<img src=\"../GRAPHICS/Union.png\" width=\"40%\">|\n",
    "|`a.difference(b)` |Left Set Difference|Returns elements from set `a` that are not in set `b`|<img src=\"../GRAPHICS/left_difference.png\" width=\"40%\"> |\n",
    "|`b.difference(a)`|Right Set Difference|Returns elements from set `b` that are not in set `a`|<img src=\"../GRAPHICS/right_difference.png\" width=\"40%\"> |\n",
    "| `a.symmetric_difference(b)`|Symmetric Set Difference| Returns elements in set `a` or set `b`, but not in both|<img src=\"../GRAPHICS/symm_difference.png\" width=\"40%\">|"
   ]
  },
  {
   "cell_type": "code",
   "execution_count": null,
   "metadata": {},
   "outputs": [],
   "source": [
    "my_other_set = {4,5,7,'b',10,500,3}\n",
    "my_other_set"
   ]
  },
  {
   "cell_type": "code",
   "execution_count": null,
   "metadata": {},
   "outputs": [],
   "source": [
    "my_set.union(my_other_set)"
   ]
  },
  {
   "cell_type": "code",
   "execution_count": null,
   "metadata": {},
   "outputs": [],
   "source": [
    "my_set.difference(my_other_set)"
   ]
  },
  {
   "cell_type": "code",
   "execution_count": null,
   "metadata": {},
   "outputs": [],
   "source": [
    "my_set.symmetric_difference(my_other_set)"
   ]
  },
  {
   "cell_type": "code",
   "execution_count": null,
   "metadata": {},
   "outputs": [],
   "source": [
    "print(my_set)\n",
    "my_other_set = {3,67,45,4,9,'q','a'}\n",
    "print(my_other_set)\n",
    "my_set.intersection(my_other_set)"
   ]
  },
  {
   "cell_type": "markdown",
   "metadata": {},
   "source": [
    "For example, lets take a look at a set of employees.  Who still needs to complete their annual training?  We could take the difference between the two sets and find out."
   ]
  },
  {
   "cell_type": "code",
   "execution_count": null,
   "metadata": {},
   "outputs": [],
   "source": [
    "employees = {'Maxim', 'Monica', 'Martez', 'Ala',\n",
    "             'Cammie', 'Amari', 'Toccara', 'Kassandra',\n",
    "             'Rosalinda', 'Siddie', 'Luigi', 'Pepper',\n",
    "             'Damaris', 'Harrell', 'Earl', 'Antoine',\n",
    "             'Marlene', 'Johnathan', 'Ivonne', 'Jon',\n",
    "             'Whitney', 'Heidy', 'Terra', 'Jamaal',\n",
    "             'Jeanie', 'Kyrie', 'Sheila', 'Gunda',\n",
    "             'Gretta', 'Cornell', 'Lizzie', 'Romona',\n",
    "             'Tyrek', 'Vilma', 'Adison', 'Saniya',\n",
    "             'Manda', 'Talan', 'Loring', 'Taraji',\n",
    "             'Tracy', 'Felicie', 'Jess', 'Coraima',\n",
    "             'Aliza', 'Oris', 'Edwina', 'Easter',\n",
    "             'Haskell', 'Mandie', 'Garret', 'Skylar',\n",
    "             'Lindsey', 'Gurney', 'Kanisha', 'Webb',\n",
    "             'Boss', 'Shreya', 'Arron', 'Earley',\n",
    "             'Linnea', 'Page', 'Elouise', 'Shirleen',\n",
    "             'Nanna', 'Callie', 'Tammy', 'Theodocia',\n",
    "             'Kiley', 'Eddy', 'Ida', 'Hampton', 'Jaheem',\n",
    "             'Aja', 'Carlyn'}\n",
    "\n",
    "completed_training = {'Gunda', 'Jess', 'Page', 'Siddie', 'Kassandra', 'Theodocia', 'Ida', 'Heidy', 'Monica', 'Aliza', 'Cammie', 'Carlyn', 'Taraji'}"
   ]
  },
  {
   "cell_type": "code",
   "execution_count": null,
   "metadata": {},
   "outputs": [],
   "source": [
    "employees.difference(completed_training)"
   ]
  },
  {
   "cell_type": "markdown",
   "metadata": {},
   "source": [
    "<hr>"
   ]
  },
  {
   "cell_type": "markdown",
   "metadata": {},
   "source": [
    "### Dictionaries\n",
    "\n",
    "* [Python: Dictionaries](https://docs.python.org/3/tutorial/datastructures.html#dictionaries)\n",
    "\n",
    "Dictionaries are mutable, unordered collections of key-value pairs. Unlike sequences, which are indexed, dictionaries are accessible by their keys, which can be of any immutable type. Strings, numbers, and tuples can all serve as keys in a dictionary.  The values can be any data type (even other dictionaries or lists).\n",
    "\n",
    "Dictionaries share many properties with sets:\n",
    "* Both sets and dictionaries are unordered\n",
    "* Both sets and dictionaries are wrapped in curly braces\n",
    "* Sets must have unique entries, dictionaries must have unique keys\n",
    "\n",
    "A driver's license is a great example of a common object in our daily lives that uses key-value pairs. Each data point is linked to a key that describes what it is. \n",
    "\n",
    "<img src=\"../GRAPHICS/license.png\" width=\"35%\">"
   ]
  },
  {
   "cell_type": "markdown",
   "metadata": {},
   "source": [
    "#### Creating Dictionaries\n",
    "\n",
    "Like sets, dictionaries use curly braces as wrappers. However, a pair of empty curly braces gets interpreted as an empty dictionary, not a set. We can also set up a dictionary that's populated with entries. Note that each entry in the dictionary below is a pair of values separated by a colon (`:`). To the left of the colon is the entry's _key_, and to the right is the _value_. Dictionary entries are always structured like this: `key: value`, with commas separating each `key: value` pair."
   ]
  },
  {
   "cell_type": "code",
   "execution_count": null,
   "metadata": {},
   "outputs": [],
   "source": [
    "empty_dictionary = {}\n",
    "print(type(empty_dictionary))"
   ]
  },
  {
   "cell_type": "code",
   "execution_count": null,
   "metadata": {},
   "outputs": [],
   "source": [
    "english_french_dictionary = {'hello': 'bonjour',\n",
    "                             'world': 'monde',\n",
    "                             'thank you': 'merci'}\n",
    "english_french_dictionary"
   ]
  },
  {
   "cell_type": "markdown",
   "metadata": {},
   "source": [
    "You can access a dictionary's values using its keys.  Like with python lists or tuples, Python uses square brackets in the syntax but index is not used to access the data inside a dictionary.  Instead, the key is passed in.  Since dictionaries are mutable, we can also add and reassign a value using the key.\n",
    "\n",
    "| Syntax                 | Description                               |\n",
    "|:----------------------:|-------------------------------------------|\n",
    "| `dict_variable[key]` |Accesses the item at key `[key]` |\n",
    "| `dict_variable[key] = \"what I want\"` |Sets the item at key `[key]` to  `\"what I want` |\n",
    "\n",
    "> NOTE: Dictionary keys can be any immutable data type."
   ]
  },
  {
   "cell_type": "code",
   "execution_count": null,
   "metadata": {},
   "outputs": [],
   "source": [
    "english_french_dictionary[\"hello\"]\n"
   ]
  },
  {
   "cell_type": "markdown",
   "metadata": {},
   "source": [
    "Here we use an assignment operator to create a new key, value pair into the dictionary"
   ]
  },
  {
   "cell_type": "code",
   "execution_count": null,
   "metadata": {},
   "outputs": [],
   "source": [
    "english_french_dictionary['good bye'] = 'au revoir'\n",
    "english_french_dictionary"
   ]
  },
  {
   "cell_type": "markdown",
   "metadata": {},
   "source": [
    "We can overwrite an existing value in a dictionary as well."
   ]
  },
  {
   "cell_type": "code",
   "execution_count": null,
   "metadata": {},
   "outputs": [],
   "source": [
    "english_french_dictionary['hello'] = ['bonjour', 'salut']\n",
    "english_french_dictionary"
   ]
  },
  {
   "cell_type": "code",
   "execution_count": null,
   "metadata": {},
   "outputs": [],
   "source": [
    "english_french_dictionary['hello'][0]\n",
    "                                   "
   ]
  },
  {
   "cell_type": "markdown",
   "metadata": {},
   "source": [
    "We can delete a key/value pair from a dictionary using the `del` keyword.  As with all operations with Python, there is not confirmation and the entry is completely erased from memory."
   ]
  },
  {
   "cell_type": "code",
   "execution_count": null,
   "metadata": {},
   "outputs": [],
   "source": [
    "del english_french_dictionary[\"world\"]\n",
    "english_french_dictionary"
   ]
  },
  {
   "cell_type": "markdown",
   "metadata": {},
   "source": [
    "The `keys()` and `values()` methods are used to see just the keys or values of a dictionary (we can use these methods for membership testing).  These methods return _list-like_ objects."
   ]
  },
  {
   "cell_type": "code",
   "execution_count": null,
   "metadata": {},
   "outputs": [],
   "source": [
    "english_french_dictionary.keys()"
   ]
  },
  {
   "cell_type": "code",
   "execution_count": null,
   "metadata": {},
   "outputs": [],
   "source": [
    "english_french_dictionary.values()"
   ]
  },
  {
   "cell_type": "markdown",
   "metadata": {},
   "source": [
    "We can see the keys and values together in a list-list object of tuples with the `items()` method (we will use these methods later when we go over iteration)"
   ]
  },
  {
   "cell_type": "code",
   "execution_count": null,
   "metadata": {},
   "outputs": [],
   "source": [
    "english_french_dictionary.items()"
   ]
  },
  {
   "cell_type": "markdown",
   "metadata": {},
   "source": [
    "#### Dictionary Methods\n",
    "\n",
    "| Syntax               | Description                               |\n",
    "|:----------------------:|-------------------------------------------|\n",
    "|`dict.get(key, default)`| Get the value associated with a key, or a default value if the key is not present.|\n",
    "|`dict.pop(key, default)`| Remove the item with a specific key and return its value, or a default value if the key is not present.|\n",
    "|`dict.popitem()`| Remove and return an arbitrary key-value pair.|\n",
    "|`dict.update(other_dict)`| Update the dictionary with key-value pairs from another dictionary.|\n",
    "|`dict.clear()`| Remove all items from the dictionary.|\n"
   ]
  },
  {
   "cell_type": "code",
   "execution_count": null,
   "metadata": {},
   "outputs": [],
   "source": [
    "english_french_dictionary['library'] # Returns an error when the key:value doesn't exist"
   ]
  },
  {
   "cell_type": "code",
   "execution_count": null,
   "metadata": {},
   "outputs": [],
   "source": [
    "english_french_dictionary.get('library', \"Not Found\") # Get method allows us to handle an error encountered when the key:value does not exist"
   ]
  },
  {
   "cell_type": "code",
   "execution_count": null,
   "metadata": {},
   "outputs": [],
   "source": [
    "english_french_dictionary['hello'] = ['bonjour', 'salut']"
   ]
  },
  {
   "cell_type": "code",
   "execution_count": null,
   "metadata": {},
   "outputs": [],
   "source": [
    "hello_popped = english_french_dictionary.pop('hello', 'Not found')"
   ]
  },
  {
   "cell_type": "code",
   "execution_count": null,
   "metadata": {},
   "outputs": [],
   "source": [
    "hello_popped"
   ]
  },
  {
   "cell_type": "code",
   "execution_count": null,
   "metadata": {},
   "outputs": [],
   "source": [
    "english_french_dictionary"
   ]
  },
  {
   "cell_type": "code",
   "execution_count": null,
   "metadata": {},
   "outputs": [],
   "source": [
    "english_french_dictionary.get('library', \"Not found\")"
   ]
  },
  {
   "cell_type": "code",
   "execution_count": null,
   "metadata": {},
   "outputs": [],
   "source": [
    "english_french_dictionary = {\n",
    "    \"hello\": \"bonjour\",\n",
    "}\n",
    "english_french_dictionary['hello'] = ['bonjour', 'salut']"
   ]
  },
  {
   "cell_type": "code",
   "execution_count": null,
   "metadata": {},
   "outputs": [],
   "source": [
    "english_french_dictionary"
   ]
  },
  {
   "cell_type": "code",
   "execution_count": null,
   "metadata": {},
   "outputs": [],
   "source": [
    "new_english_french_dictionary = {\n",
    "    \"hello\": \"bonjour\",\n",
    "    \"goodbye\": \"au revoir\",\n",
    "    \"bathroom\": \"salle de bain\",\n",
    "    \"library\": \"bibliothèque\",\n",
    "    \"cookie\": \"biscuit\",\n",
    "    \"milk\": \"lait\",\n",
    "    \"green\": \"vert\",\n",
    "    \"chicken\": \"poulet\"\n",
    "}"
   ]
  },
  {
   "cell_type": "code",
   "execution_count": null,
   "metadata": {},
   "outputs": [],
   "source": [
    "english_french_dictionary.update(new_english_french_dictionary)\n",
    "english_french_dictionary"
   ]
  },
  {
   "cell_type": "code",
   "execution_count": null,
   "metadata": {},
   "outputs": [],
   "source": [
    "english_french_dictionary[\"hello\"]"
   ]
  },
  {
   "cell_type": "code",
   "execution_count": null,
   "metadata": {},
   "outputs": [],
   "source": [
    "english_french_dictionary.pop(\"hello\")\n",
    "english_french_dictionary"
   ]
  },
  {
   "cell_type": "code",
   "execution_count": null,
   "metadata": {},
   "outputs": [],
   "source": [
    "english_french_dictionary.get('hello', \"Not Found\")"
   ]
  },
  {
   "cell_type": "code",
   "execution_count": null,
   "metadata": {},
   "outputs": [],
   "source": [
    "popped_item = english_french_dictionary.popitem()\n",
    "popped_item"
   ]
  },
  {
   "cell_type": "markdown",
   "metadata": {},
   "source": [
    "### Common Operations Across Data Structures\n",
    "\n",
    "The functions in the table below also apply to sets and dictionaries. When called on dictionaries, these functions consider only the keys. Because of this, calling `max()` on a dictionary would give you its largest (highest value) key. Keep in mind also that `sorted()` will always return a list, even if you call it on a set or dictionary.\n",
    "\n",
    "| Syntax               | Description                               |\n",
    "|:----------------------:|-------------------------------------------|\n",
    "|`max(collection)`    | Returns the maximum value contained in the collection |\n",
    "|`min(collection)`    | Returns the minimum value contained in the collection |\n",
    "|`sum(collection)`    | Returns the sum of the collection's elements (only works if all items are numeric) |\n",
    "|`len(collection)`    | Returns the number of elements in the collection |\n",
    "|`sorted(collection)` | Returns a sorted list of the collections elements |"
   ]
  },
  {
   "cell_type": "code",
   "execution_count": null,
   "metadata": {},
   "outputs": [],
   "source": [
    "my_set = {'F15', 'P17', 'T18', 'E00', 'A18', 'D13', 'D19', 'Z16', 'K17', 'X16', 'V13', 'U13'}\n",
    "\n",
    "max(my_set)"
   ]
  },
  {
   "cell_type": "code",
   "execution_count": null,
   "metadata": {},
   "outputs": [],
   "source": [
    "my_set = {'F15', 'P17', 'T18', 'E00', 'A18', 'D13', 'D19', 'Z16', 'K17', 'X16', 'V13', 'U13'}\n",
    "\n",
    "min(my_set)"
   ]
  },
  {
   "cell_type": "code",
   "execution_count": null,
   "metadata": {},
   "outputs": [],
   "source": [
    "my_list = [45, 42, 57, 55, 46, 60, 50, 44, 40, 43, 52, 54]\n",
    "\n",
    "sum(my_list)"
   ]
  },
  {
   "cell_type": "code",
   "execution_count": null,
   "metadata": {},
   "outputs": [],
   "source": [
    "my_dict = {'A': 0, 'B': 1, 'C': 2, 'D': 3, 'E': 4, 'F': 5, 'G': 6, 'H': 7, 'I': 8, 'J': 9}\n",
    "\n",
    "len(my_dict)"
   ]
  },
  {
   "cell_type": "code",
   "execution_count": null,
   "metadata": {},
   "outputs": [],
   "source": [
    "my_dict = {'A': 0, 'B': 1, 'C': 2, 'D': 3, 'E': 4, 'F': 5, 'G': 6, 'H': 7, 'I': 8, 'J': 9}\n",
    "\n",
    "sorted(my_dict, reverse=True)"
   ]
  },
  {
   "cell_type": "markdown",
   "metadata": {},
   "source": [
    "### Conclusion\n",
    "\n",
    "In this lecture, you've explored the power of dictionaries and sets in Python, along with their built-in methods. Dictionaries provide a flexible way to manage data using key-value pairs, while sets offer efficient storage for unique elements. Understanding when and how to use these data structures, as well as their methods, is essential for effective Python programming.\n",
    "\n",
    "Continue to practice and apply these concepts in your Python projects to become proficient in working with dictionaries and sets.\n",
    "\n",
    "This lecture comprehensively covers the built-in methods of dictionaries and sets in Python, providing explanations and code examples for each method."
   ]
  },
  {
   "cell_type": "markdown",
   "metadata": {},
   "source": [
    "### Assignments"
   ]
  },
  {
   "cell_type": "code",
   "execution_count": null,
   "metadata": {},
   "outputs": [],
   "source": [
    "# Create a dictionary called phonebook with at least three names as keys and their phone numbers as values.\n",
    "\n",
    "# Print the phone number for one of the names.\n",
    "# Add a new name and number to the dictionary.\n",
    "# Change the number for one of the existing names."
   ]
  },
  {
   "cell_type": "code",
   "execution_count": null,
   "metadata": {},
   "outputs": [],
   "source": [
    "# Create a dictionary called favorite_colors with three people’s names as keys and their favorite color as the value.\n",
    "\n",
    "# Print the favorite color of one person.\n",
    "# Add your own name and favorite color to the dictionary.\n",
    "# Remove one person from the dictionary using del."
   ]
  },
  {
   "cell_type": "code",
   "execution_count": null,
   "metadata": {},
   "outputs": [],
   "source": [
    "# Create a dictionary called eng_to_spanish with at least three English words as keys and their Spanish translations as values.\n",
    "\n",
    "# Print the Spanish translation for one word.\n",
    "# Use the .get() method to try to get the translation for a word not in the dictionary, providing a default message like \"Not found\"."
   ]
  },
  {
   "cell_type": "code",
   "execution_count": null,
   "metadata": {},
   "outputs": [],
   "source": [
    "# Create a dictionary called grades with three students’ names as keys and their test scores as values.\n",
    "\n",
    "# Print the grade for one student.\n",
    "# Update the grade for one student.\n",
    "# Add a new student and grade to the dictionary."
   ]
  }
 ],
 "metadata": {
  "kernelspec": {
   "display_name": "qpenv",
   "language": "python",
   "name": "python3"
  },
  "language_info": {
   "codemirror_mode": {
    "name": "ipython",
    "version": 3
   },
   "file_extension": ".py",
   "mimetype": "text/x-python",
   "name": "python",
   "nbconvert_exporter": "python",
   "pygments_lexer": "ipython3",
   "version": "3.10.12"
  }
 },
 "nbformat": 4,
 "nbformat_minor": 4
}
